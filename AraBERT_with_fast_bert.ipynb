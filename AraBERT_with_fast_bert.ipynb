{
  "nbformat": 4,
  "nbformat_minor": 0,
  "metadata": {
    "accelerator": "GPU",
    "colab": {
      "name": "AraBERT_with_fast_bert.ipynb",
      "provenance": [],
      "collapsed_sections": [],
      "toc_visible": true
    },
    "kernelspec": {
      "display_name": "Python 3",
      "name": "python3"
    },
    "widgets": {
      "application/vnd.jupyter.widget-state+json": {
        "65c390aa25b64bb8895fd305f1b260e6": {
          "model_module": "@jupyter-widgets/controls",
          "model_name": "HBoxModel",
          "model_module_version": "1.5.0",
          "state": {
            "_view_name": "HBoxView",
            "_dom_classes": [],
            "_model_name": "HBoxModel",
            "_view_module": "@jupyter-widgets/controls",
            "_model_module_version": "1.5.0",
            "_view_count": null,
            "_view_module_version": "1.5.0",
            "box_style": "",
            "layout": "IPY_MODEL_5b2aff385d234135a51091e0fce1a3dc",
            "_model_module": "@jupyter-widgets/controls",
            "children": [
              "IPY_MODEL_6f33c011f2cc4204a4c6364bae1eebf8",
              "IPY_MODEL_9f4658c3f918492fa49f8e2109de3279"
            ]
          }
        },
        "5b2aff385d234135a51091e0fce1a3dc": {
          "model_module": "@jupyter-widgets/base",
          "model_name": "LayoutModel",
          "model_module_version": "1.2.0",
          "state": {
            "_view_name": "LayoutView",
            "grid_template_rows": null,
            "right": null,
            "justify_content": null,
            "_view_module": "@jupyter-widgets/base",
            "overflow": null,
            "_model_module_version": "1.2.0",
            "_view_count": null,
            "flex_flow": null,
            "width": null,
            "min_width": null,
            "border": null,
            "align_items": null,
            "bottom": null,
            "_model_module": "@jupyter-widgets/base",
            "top": null,
            "grid_column": null,
            "overflow_y": null,
            "overflow_x": null,
            "grid_auto_flow": null,
            "grid_area": null,
            "grid_template_columns": null,
            "flex": null,
            "_model_name": "LayoutModel",
            "justify_items": null,
            "grid_row": null,
            "max_height": null,
            "align_content": null,
            "visibility": null,
            "align_self": null,
            "height": null,
            "min_height": null,
            "padding": null,
            "grid_auto_rows": null,
            "grid_gap": null,
            "max_width": null,
            "order": null,
            "_view_module_version": "1.2.0",
            "grid_template_areas": null,
            "object_position": null,
            "object_fit": null,
            "grid_auto_columns": null,
            "margin": null,
            "display": null,
            "left": null
          }
        },
        "6f33c011f2cc4204a4c6364bae1eebf8": {
          "model_module": "@jupyter-widgets/controls",
          "model_name": "FloatProgressModel",
          "model_module_version": "1.5.0",
          "state": {
            "_view_name": "ProgressView",
            "style": "IPY_MODEL_983f333b90544359846e0ece580f9ea2",
            "_dom_classes": [],
            "description": "Downloading: 100%",
            "_model_name": "FloatProgressModel",
            "bar_style": "success",
            "max": 572,
            "_view_module": "@jupyter-widgets/controls",
            "_model_module_version": "1.5.0",
            "value": 572,
            "_view_count": null,
            "_view_module_version": "1.5.0",
            "orientation": "horizontal",
            "min": 0,
            "description_tooltip": null,
            "_model_module": "@jupyter-widgets/controls",
            "layout": "IPY_MODEL_253ed8a131084aa48ca3b822d0a2cd54"
          }
        },
        "9f4658c3f918492fa49f8e2109de3279": {
          "model_module": "@jupyter-widgets/controls",
          "model_name": "HTMLModel",
          "model_module_version": "1.5.0",
          "state": {
            "_view_name": "HTMLView",
            "style": "IPY_MODEL_36b72fd962c841c2ade7a7cceea69b9f",
            "_dom_classes": [],
            "description": "",
            "_model_name": "HTMLModel",
            "placeholder": "​",
            "_view_module": "@jupyter-widgets/controls",
            "_model_module_version": "1.5.0",
            "value": " 572/572 [00:03&lt;00:00, 190B/s]",
            "_view_count": null,
            "_view_module_version": "1.5.0",
            "description_tooltip": null,
            "_model_module": "@jupyter-widgets/controls",
            "layout": "IPY_MODEL_2b61fa108a4f4c8b89a77d9edc916848"
          }
        },
        "983f333b90544359846e0ece580f9ea2": {
          "model_module": "@jupyter-widgets/controls",
          "model_name": "ProgressStyleModel",
          "model_module_version": "1.5.0",
          "state": {
            "_view_name": "StyleView",
            "_model_name": "ProgressStyleModel",
            "description_width": "initial",
            "_view_module": "@jupyter-widgets/base",
            "_model_module_version": "1.5.0",
            "_view_count": null,
            "_view_module_version": "1.2.0",
            "bar_color": null,
            "_model_module": "@jupyter-widgets/controls"
          }
        },
        "253ed8a131084aa48ca3b822d0a2cd54": {
          "model_module": "@jupyter-widgets/base",
          "model_name": "LayoutModel",
          "model_module_version": "1.2.0",
          "state": {
            "_view_name": "LayoutView",
            "grid_template_rows": null,
            "right": null,
            "justify_content": null,
            "_view_module": "@jupyter-widgets/base",
            "overflow": null,
            "_model_module_version": "1.2.0",
            "_view_count": null,
            "flex_flow": null,
            "width": null,
            "min_width": null,
            "border": null,
            "align_items": null,
            "bottom": null,
            "_model_module": "@jupyter-widgets/base",
            "top": null,
            "grid_column": null,
            "overflow_y": null,
            "overflow_x": null,
            "grid_auto_flow": null,
            "grid_area": null,
            "grid_template_columns": null,
            "flex": null,
            "_model_name": "LayoutModel",
            "justify_items": null,
            "grid_row": null,
            "max_height": null,
            "align_content": null,
            "visibility": null,
            "align_self": null,
            "height": null,
            "min_height": null,
            "padding": null,
            "grid_auto_rows": null,
            "grid_gap": null,
            "max_width": null,
            "order": null,
            "_view_module_version": "1.2.0",
            "grid_template_areas": null,
            "object_position": null,
            "object_fit": null,
            "grid_auto_columns": null,
            "margin": null,
            "display": null,
            "left": null
          }
        },
        "36b72fd962c841c2ade7a7cceea69b9f": {
          "model_module": "@jupyter-widgets/controls",
          "model_name": "DescriptionStyleModel",
          "model_module_version": "1.5.0",
          "state": {
            "_view_name": "StyleView",
            "_model_name": "DescriptionStyleModel",
            "description_width": "",
            "_view_module": "@jupyter-widgets/base",
            "_model_module_version": "1.5.0",
            "_view_count": null,
            "_view_module_version": "1.2.0",
            "_model_module": "@jupyter-widgets/controls"
          }
        },
        "2b61fa108a4f4c8b89a77d9edc916848": {
          "model_module": "@jupyter-widgets/base",
          "model_name": "LayoutModel",
          "model_module_version": "1.2.0",
          "state": {
            "_view_name": "LayoutView",
            "grid_template_rows": null,
            "right": null,
            "justify_content": null,
            "_view_module": "@jupyter-widgets/base",
            "overflow": null,
            "_model_module_version": "1.2.0",
            "_view_count": null,
            "flex_flow": null,
            "width": null,
            "min_width": null,
            "border": null,
            "align_items": null,
            "bottom": null,
            "_model_module": "@jupyter-widgets/base",
            "top": null,
            "grid_column": null,
            "overflow_y": null,
            "overflow_x": null,
            "grid_auto_flow": null,
            "grid_area": null,
            "grid_template_columns": null,
            "flex": null,
            "_model_name": "LayoutModel",
            "justify_items": null,
            "grid_row": null,
            "max_height": null,
            "align_content": null,
            "visibility": null,
            "align_self": null,
            "height": null,
            "min_height": null,
            "padding": null,
            "grid_auto_rows": null,
            "grid_gap": null,
            "max_width": null,
            "order": null,
            "_view_module_version": "1.2.0",
            "grid_template_areas": null,
            "object_position": null,
            "object_fit": null,
            "grid_auto_columns": null,
            "margin": null,
            "display": null,
            "left": null
          }
        },
        "47eebe1cd93245719a4daec25dc1431a": {
          "model_module": "@jupyter-widgets/controls",
          "model_name": "HBoxModel",
          "model_module_version": "1.5.0",
          "state": {
            "_view_name": "HBoxView",
            "_dom_classes": [],
            "_model_name": "HBoxModel",
            "_view_module": "@jupyter-widgets/controls",
            "_model_module_version": "1.5.0",
            "_view_count": null,
            "_view_module_version": "1.5.0",
            "box_style": "",
            "layout": "IPY_MODEL_6668781ad2c94bb3b0a3b5867d328695",
            "_model_module": "@jupyter-widgets/controls",
            "children": [
              "IPY_MODEL_1b5f1d4d5eab4431bed2c64841648bbf",
              "IPY_MODEL_256780beeac54b18a1448dac77deb89f"
            ]
          }
        },
        "6668781ad2c94bb3b0a3b5867d328695": {
          "model_module": "@jupyter-widgets/base",
          "model_name": "LayoutModel",
          "model_module_version": "1.2.0",
          "state": {
            "_view_name": "LayoutView",
            "grid_template_rows": null,
            "right": null,
            "justify_content": null,
            "_view_module": "@jupyter-widgets/base",
            "overflow": null,
            "_model_module_version": "1.2.0",
            "_view_count": null,
            "flex_flow": null,
            "width": null,
            "min_width": null,
            "border": null,
            "align_items": null,
            "bottom": null,
            "_model_module": "@jupyter-widgets/base",
            "top": null,
            "grid_column": null,
            "overflow_y": null,
            "overflow_x": null,
            "grid_auto_flow": null,
            "grid_area": null,
            "grid_template_columns": null,
            "flex": null,
            "_model_name": "LayoutModel",
            "justify_items": null,
            "grid_row": null,
            "max_height": null,
            "align_content": null,
            "visibility": null,
            "align_self": null,
            "height": null,
            "min_height": null,
            "padding": null,
            "grid_auto_rows": null,
            "grid_gap": null,
            "max_width": null,
            "order": null,
            "_view_module_version": "1.2.0",
            "grid_template_areas": null,
            "object_position": null,
            "object_fit": null,
            "grid_auto_columns": null,
            "margin": null,
            "display": null,
            "left": null
          }
        },
        "1b5f1d4d5eab4431bed2c64841648bbf": {
          "model_module": "@jupyter-widgets/controls",
          "model_name": "FloatProgressModel",
          "model_module_version": "1.5.0",
          "state": {
            "_view_name": "ProgressView",
            "style": "IPY_MODEL_2268c2c39a834e8dace4d4fde6176401",
            "_dom_classes": [],
            "description": "Downloading: 100%",
            "_model_name": "FloatProgressModel",
            "bar_style": "success",
            "max": 717153,
            "_view_module": "@jupyter-widgets/controls",
            "_model_module_version": "1.5.0",
            "value": 717153,
            "_view_count": null,
            "_view_module_version": "1.5.0",
            "orientation": "horizontal",
            "min": 0,
            "description_tooltip": null,
            "_model_module": "@jupyter-widgets/controls",
            "layout": "IPY_MODEL_2665c5eccc1c43eb834c71cde0b3083e"
          }
        },
        "256780beeac54b18a1448dac77deb89f": {
          "model_module": "@jupyter-widgets/controls",
          "model_name": "HTMLModel",
          "model_module_version": "1.5.0",
          "state": {
            "_view_name": "HTMLView",
            "style": "IPY_MODEL_2887d00e09744ea089d3a32979d6ceba",
            "_dom_classes": [],
            "description": "",
            "_model_name": "HTMLModel",
            "placeholder": "​",
            "_view_module": "@jupyter-widgets/controls",
            "_model_module_version": "1.5.0",
            "value": " 717k/717k [00:01&lt;00:00, 408kB/s]",
            "_view_count": null,
            "_view_module_version": "1.5.0",
            "description_tooltip": null,
            "_model_module": "@jupyter-widgets/controls",
            "layout": "IPY_MODEL_243e734e7f5b41919db49ce76275ea11"
          }
        },
        "2268c2c39a834e8dace4d4fde6176401": {
          "model_module": "@jupyter-widgets/controls",
          "model_name": "ProgressStyleModel",
          "model_module_version": "1.5.0",
          "state": {
            "_view_name": "StyleView",
            "_model_name": "ProgressStyleModel",
            "description_width": "initial",
            "_view_module": "@jupyter-widgets/base",
            "_model_module_version": "1.5.0",
            "_view_count": null,
            "_view_module_version": "1.2.0",
            "bar_color": null,
            "_model_module": "@jupyter-widgets/controls"
          }
        },
        "2665c5eccc1c43eb834c71cde0b3083e": {
          "model_module": "@jupyter-widgets/base",
          "model_name": "LayoutModel",
          "model_module_version": "1.2.0",
          "state": {
            "_view_name": "LayoutView",
            "grid_template_rows": null,
            "right": null,
            "justify_content": null,
            "_view_module": "@jupyter-widgets/base",
            "overflow": null,
            "_model_module_version": "1.2.0",
            "_view_count": null,
            "flex_flow": null,
            "width": null,
            "min_width": null,
            "border": null,
            "align_items": null,
            "bottom": null,
            "_model_module": "@jupyter-widgets/base",
            "top": null,
            "grid_column": null,
            "overflow_y": null,
            "overflow_x": null,
            "grid_auto_flow": null,
            "grid_area": null,
            "grid_template_columns": null,
            "flex": null,
            "_model_name": "LayoutModel",
            "justify_items": null,
            "grid_row": null,
            "max_height": null,
            "align_content": null,
            "visibility": null,
            "align_self": null,
            "height": null,
            "min_height": null,
            "padding": null,
            "grid_auto_rows": null,
            "grid_gap": null,
            "max_width": null,
            "order": null,
            "_view_module_version": "1.2.0",
            "grid_template_areas": null,
            "object_position": null,
            "object_fit": null,
            "grid_auto_columns": null,
            "margin": null,
            "display": null,
            "left": null
          }
        },
        "2887d00e09744ea089d3a32979d6ceba": {
          "model_module": "@jupyter-widgets/controls",
          "model_name": "DescriptionStyleModel",
          "model_module_version": "1.5.0",
          "state": {
            "_view_name": "StyleView",
            "_model_name": "DescriptionStyleModel",
            "description_width": "",
            "_view_module": "@jupyter-widgets/base",
            "_model_module_version": "1.5.0",
            "_view_count": null,
            "_view_module_version": "1.2.0",
            "_model_module": "@jupyter-widgets/controls"
          }
        },
        "243e734e7f5b41919db49ce76275ea11": {
          "model_module": "@jupyter-widgets/base",
          "model_name": "LayoutModel",
          "model_module_version": "1.2.0",
          "state": {
            "_view_name": "LayoutView",
            "grid_template_rows": null,
            "right": null,
            "justify_content": null,
            "_view_module": "@jupyter-widgets/base",
            "overflow": null,
            "_model_module_version": "1.2.0",
            "_view_count": null,
            "flex_flow": null,
            "width": null,
            "min_width": null,
            "border": null,
            "align_items": null,
            "bottom": null,
            "_model_module": "@jupyter-widgets/base",
            "top": null,
            "grid_column": null,
            "overflow_y": null,
            "overflow_x": null,
            "grid_auto_flow": null,
            "grid_area": null,
            "grid_template_columns": null,
            "flex": null,
            "_model_name": "LayoutModel",
            "justify_items": null,
            "grid_row": null,
            "max_height": null,
            "align_content": null,
            "visibility": null,
            "align_self": null,
            "height": null,
            "min_height": null,
            "padding": null,
            "grid_auto_rows": null,
            "grid_gap": null,
            "max_width": null,
            "order": null,
            "_view_module_version": "1.2.0",
            "grid_template_areas": null,
            "object_position": null,
            "object_fit": null,
            "grid_auto_columns": null,
            "margin": null,
            "display": null,
            "left": null
          }
        },
        "2b91f43d9f95486ba38e3076cf5ab383": {
          "model_module": "@jupyter-widgets/controls",
          "model_name": "HBoxModel",
          "model_module_version": "1.5.0",
          "state": {
            "_view_name": "HBoxView",
            "_dom_classes": [],
            "_model_name": "HBoxModel",
            "_view_module": "@jupyter-widgets/controls",
            "_model_module_version": "1.5.0",
            "_view_count": null,
            "_view_module_version": "1.5.0",
            "box_style": "",
            "layout": "IPY_MODEL_064c0cc323ca4970b8d5eab29ff19e4a",
            "_model_module": "@jupyter-widgets/controls",
            "children": [
              "IPY_MODEL_4c7798302602469399c2dd3b231ef2b4",
              "IPY_MODEL_e001de677f3145dba820553ede8f0fc2"
            ]
          }
        },
        "064c0cc323ca4970b8d5eab29ff19e4a": {
          "model_module": "@jupyter-widgets/base",
          "model_name": "LayoutModel",
          "model_module_version": "1.2.0",
          "state": {
            "_view_name": "LayoutView",
            "grid_template_rows": null,
            "right": null,
            "justify_content": null,
            "_view_module": "@jupyter-widgets/base",
            "overflow": null,
            "_model_module_version": "1.2.0",
            "_view_count": null,
            "flex_flow": null,
            "width": null,
            "min_width": null,
            "border": null,
            "align_items": null,
            "bottom": null,
            "_model_module": "@jupyter-widgets/base",
            "top": null,
            "grid_column": null,
            "overflow_y": null,
            "overflow_x": null,
            "grid_auto_flow": null,
            "grid_area": null,
            "grid_template_columns": null,
            "flex": null,
            "_model_name": "LayoutModel",
            "justify_items": null,
            "grid_row": null,
            "max_height": null,
            "align_content": null,
            "visibility": null,
            "align_self": null,
            "height": null,
            "min_height": null,
            "padding": null,
            "grid_auto_rows": null,
            "grid_gap": null,
            "max_width": null,
            "order": null,
            "_view_module_version": "1.2.0",
            "grid_template_areas": null,
            "object_position": null,
            "object_fit": null,
            "grid_auto_columns": null,
            "margin": null,
            "display": null,
            "left": null
          }
        },
        "4c7798302602469399c2dd3b231ef2b4": {
          "model_module": "@jupyter-widgets/controls",
          "model_name": "FloatProgressModel",
          "model_module_version": "1.5.0",
          "state": {
            "_view_name": "ProgressView",
            "style": "IPY_MODEL_cd8a627dfb174f8a950ebf23d99f7ebc",
            "_dom_classes": [],
            "description": "Downloading: 100%",
            "_model_name": "FloatProgressModel",
            "bar_style": "success",
            "max": 112,
            "_view_module": "@jupyter-widgets/controls",
            "_model_module_version": "1.5.0",
            "value": 112,
            "_view_count": null,
            "_view_module_version": "1.5.0",
            "orientation": "horizontal",
            "min": 0,
            "description_tooltip": null,
            "_model_module": "@jupyter-widgets/controls",
            "layout": "IPY_MODEL_bc3f644633254837b492cc16ee0fec46"
          }
        },
        "e001de677f3145dba820553ede8f0fc2": {
          "model_module": "@jupyter-widgets/controls",
          "model_name": "HTMLModel",
          "model_module_version": "1.5.0",
          "state": {
            "_view_name": "HTMLView",
            "style": "IPY_MODEL_d371b0f229834e4c97309959a6b286d2",
            "_dom_classes": [],
            "description": "",
            "_model_name": "HTMLModel",
            "placeholder": "​",
            "_view_module": "@jupyter-widgets/controls",
            "_model_module_version": "1.5.0",
            "value": " 112/112 [00:00&lt;00:00, 218B/s]",
            "_view_count": null,
            "_view_module_version": "1.5.0",
            "description_tooltip": null,
            "_model_module": "@jupyter-widgets/controls",
            "layout": "IPY_MODEL_18595567872f434aacb531394b7dc70f"
          }
        },
        "cd8a627dfb174f8a950ebf23d99f7ebc": {
          "model_module": "@jupyter-widgets/controls",
          "model_name": "ProgressStyleModel",
          "model_module_version": "1.5.0",
          "state": {
            "_view_name": "StyleView",
            "_model_name": "ProgressStyleModel",
            "description_width": "initial",
            "_view_module": "@jupyter-widgets/base",
            "_model_module_version": "1.5.0",
            "_view_count": null,
            "_view_module_version": "1.2.0",
            "bar_color": null,
            "_model_module": "@jupyter-widgets/controls"
          }
        },
        "bc3f644633254837b492cc16ee0fec46": {
          "model_module": "@jupyter-widgets/base",
          "model_name": "LayoutModel",
          "model_module_version": "1.2.0",
          "state": {
            "_view_name": "LayoutView",
            "grid_template_rows": null,
            "right": null,
            "justify_content": null,
            "_view_module": "@jupyter-widgets/base",
            "overflow": null,
            "_model_module_version": "1.2.0",
            "_view_count": null,
            "flex_flow": null,
            "width": null,
            "min_width": null,
            "border": null,
            "align_items": null,
            "bottom": null,
            "_model_module": "@jupyter-widgets/base",
            "top": null,
            "grid_column": null,
            "overflow_y": null,
            "overflow_x": null,
            "grid_auto_flow": null,
            "grid_area": null,
            "grid_template_columns": null,
            "flex": null,
            "_model_name": "LayoutModel",
            "justify_items": null,
            "grid_row": null,
            "max_height": null,
            "align_content": null,
            "visibility": null,
            "align_self": null,
            "height": null,
            "min_height": null,
            "padding": null,
            "grid_auto_rows": null,
            "grid_gap": null,
            "max_width": null,
            "order": null,
            "_view_module_version": "1.2.0",
            "grid_template_areas": null,
            "object_position": null,
            "object_fit": null,
            "grid_auto_columns": null,
            "margin": null,
            "display": null,
            "left": null
          }
        },
        "d371b0f229834e4c97309959a6b286d2": {
          "model_module": "@jupyter-widgets/controls",
          "model_name": "DescriptionStyleModel",
          "model_module_version": "1.5.0",
          "state": {
            "_view_name": "StyleView",
            "_model_name": "DescriptionStyleModel",
            "description_width": "",
            "_view_module": "@jupyter-widgets/base",
            "_model_module_version": "1.5.0",
            "_view_count": null,
            "_view_module_version": "1.2.0",
            "_model_module": "@jupyter-widgets/controls"
          }
        },
        "18595567872f434aacb531394b7dc70f": {
          "model_module": "@jupyter-widgets/base",
          "model_name": "LayoutModel",
          "model_module_version": "1.2.0",
          "state": {
            "_view_name": "LayoutView",
            "grid_template_rows": null,
            "right": null,
            "justify_content": null,
            "_view_module": "@jupyter-widgets/base",
            "overflow": null,
            "_model_module_version": "1.2.0",
            "_view_count": null,
            "flex_flow": null,
            "width": null,
            "min_width": null,
            "border": null,
            "align_items": null,
            "bottom": null,
            "_model_module": "@jupyter-widgets/base",
            "top": null,
            "grid_column": null,
            "overflow_y": null,
            "overflow_x": null,
            "grid_auto_flow": null,
            "grid_area": null,
            "grid_template_columns": null,
            "flex": null,
            "_model_name": "LayoutModel",
            "justify_items": null,
            "grid_row": null,
            "max_height": null,
            "align_content": null,
            "visibility": null,
            "align_self": null,
            "height": null,
            "min_height": null,
            "padding": null,
            "grid_auto_rows": null,
            "grid_gap": null,
            "max_width": null,
            "order": null,
            "_view_module_version": "1.2.0",
            "grid_template_areas": null,
            "object_position": null,
            "object_fit": null,
            "grid_auto_columns": null,
            "margin": null,
            "display": null,
            "left": null
          }
        },
        "c16a8b6b756748a7a8d5b39bfe2927fb": {
          "model_module": "@jupyter-widgets/controls",
          "model_name": "HBoxModel",
          "model_module_version": "1.5.0",
          "state": {
            "_view_name": "HBoxView",
            "_dom_classes": [],
            "_model_name": "HBoxModel",
            "_view_module": "@jupyter-widgets/controls",
            "_model_module_version": "1.5.0",
            "_view_count": null,
            "_view_module_version": "1.5.0",
            "box_style": "",
            "layout": "IPY_MODEL_0429e12fe5ba48a4ac28fcc6ccae0a47",
            "_model_module": "@jupyter-widgets/controls",
            "children": [
              "IPY_MODEL_c6ca9e704c9d400b9b50b94b1162408b",
              "IPY_MODEL_a29cc42f918147ebb5526d3d15a016bb"
            ]
          }
        },
        "0429e12fe5ba48a4ac28fcc6ccae0a47": {
          "model_module": "@jupyter-widgets/base",
          "model_name": "LayoutModel",
          "model_module_version": "1.2.0",
          "state": {
            "_view_name": "LayoutView",
            "grid_template_rows": null,
            "right": null,
            "justify_content": null,
            "_view_module": "@jupyter-widgets/base",
            "overflow": null,
            "_model_module_version": "1.2.0",
            "_view_count": null,
            "flex_flow": null,
            "width": null,
            "min_width": null,
            "border": null,
            "align_items": null,
            "bottom": null,
            "_model_module": "@jupyter-widgets/base",
            "top": null,
            "grid_column": null,
            "overflow_y": null,
            "overflow_x": null,
            "grid_auto_flow": null,
            "grid_area": null,
            "grid_template_columns": null,
            "flex": null,
            "_model_name": "LayoutModel",
            "justify_items": null,
            "grid_row": null,
            "max_height": null,
            "align_content": null,
            "visibility": null,
            "align_self": null,
            "height": null,
            "min_height": null,
            "padding": null,
            "grid_auto_rows": null,
            "grid_gap": null,
            "max_width": null,
            "order": null,
            "_view_module_version": "1.2.0",
            "grid_template_areas": null,
            "object_position": null,
            "object_fit": null,
            "grid_auto_columns": null,
            "margin": null,
            "display": null,
            "left": null
          }
        },
        "c6ca9e704c9d400b9b50b94b1162408b": {
          "model_module": "@jupyter-widgets/controls",
          "model_name": "FloatProgressModel",
          "model_module_version": "1.5.0",
          "state": {
            "_view_name": "ProgressView",
            "style": "IPY_MODEL_fee3923a5c1b4c09909bc0a445648626",
            "_dom_classes": [],
            "description": "Downloading: 100%",
            "_model_name": "FloatProgressModel",
            "bar_style": "success",
            "max": 406,
            "_view_module": "@jupyter-widgets/controls",
            "_model_module_version": "1.5.0",
            "value": 406,
            "_view_count": null,
            "_view_module_version": "1.5.0",
            "orientation": "horizontal",
            "min": 0,
            "description_tooltip": null,
            "_model_module": "@jupyter-widgets/controls",
            "layout": "IPY_MODEL_edd05e3cece0491da535c2cb8c54b44e"
          }
        },
        "a29cc42f918147ebb5526d3d15a016bb": {
          "model_module": "@jupyter-widgets/controls",
          "model_name": "HTMLModel",
          "model_module_version": "1.5.0",
          "state": {
            "_view_name": "HTMLView",
            "style": "IPY_MODEL_e431c14064cf46cebda79189dedb3f41",
            "_dom_classes": [],
            "description": "",
            "_model_name": "HTMLModel",
            "placeholder": "​",
            "_view_module": "@jupyter-widgets/controls",
            "_model_module_version": "1.5.0",
            "value": " 406/406 [00:00&lt;00:00, 1.04kB/s]",
            "_view_count": null,
            "_view_module_version": "1.5.0",
            "description_tooltip": null,
            "_model_module": "@jupyter-widgets/controls",
            "layout": "IPY_MODEL_7794b7edc6cc44a8a7d9086ba15c094b"
          }
        },
        "fee3923a5c1b4c09909bc0a445648626": {
          "model_module": "@jupyter-widgets/controls",
          "model_name": "ProgressStyleModel",
          "model_module_version": "1.5.0",
          "state": {
            "_view_name": "StyleView",
            "_model_name": "ProgressStyleModel",
            "description_width": "initial",
            "_view_module": "@jupyter-widgets/base",
            "_model_module_version": "1.5.0",
            "_view_count": null,
            "_view_module_version": "1.2.0",
            "bar_color": null,
            "_model_module": "@jupyter-widgets/controls"
          }
        },
        "edd05e3cece0491da535c2cb8c54b44e": {
          "model_module": "@jupyter-widgets/base",
          "model_name": "LayoutModel",
          "model_module_version": "1.2.0",
          "state": {
            "_view_name": "LayoutView",
            "grid_template_rows": null,
            "right": null,
            "justify_content": null,
            "_view_module": "@jupyter-widgets/base",
            "overflow": null,
            "_model_module_version": "1.2.0",
            "_view_count": null,
            "flex_flow": null,
            "width": null,
            "min_width": null,
            "border": null,
            "align_items": null,
            "bottom": null,
            "_model_module": "@jupyter-widgets/base",
            "top": null,
            "grid_column": null,
            "overflow_y": null,
            "overflow_x": null,
            "grid_auto_flow": null,
            "grid_area": null,
            "grid_template_columns": null,
            "flex": null,
            "_model_name": "LayoutModel",
            "justify_items": null,
            "grid_row": null,
            "max_height": null,
            "align_content": null,
            "visibility": null,
            "align_self": null,
            "height": null,
            "min_height": null,
            "padding": null,
            "grid_auto_rows": null,
            "grid_gap": null,
            "max_width": null,
            "order": null,
            "_view_module_version": "1.2.0",
            "grid_template_areas": null,
            "object_position": null,
            "object_fit": null,
            "grid_auto_columns": null,
            "margin": null,
            "display": null,
            "left": null
          }
        },
        "e431c14064cf46cebda79189dedb3f41": {
          "model_module": "@jupyter-widgets/controls",
          "model_name": "DescriptionStyleModel",
          "model_module_version": "1.5.0",
          "state": {
            "_view_name": "StyleView",
            "_model_name": "DescriptionStyleModel",
            "description_width": "",
            "_view_module": "@jupyter-widgets/base",
            "_model_module_version": "1.5.0",
            "_view_count": null,
            "_view_module_version": "1.2.0",
            "_model_module": "@jupyter-widgets/controls"
          }
        },
        "7794b7edc6cc44a8a7d9086ba15c094b": {
          "model_module": "@jupyter-widgets/base",
          "model_name": "LayoutModel",
          "model_module_version": "1.2.0",
          "state": {
            "_view_name": "LayoutView",
            "grid_template_rows": null,
            "right": null,
            "justify_content": null,
            "_view_module": "@jupyter-widgets/base",
            "overflow": null,
            "_model_module_version": "1.2.0",
            "_view_count": null,
            "flex_flow": null,
            "width": null,
            "min_width": null,
            "border": null,
            "align_items": null,
            "bottom": null,
            "_model_module": "@jupyter-widgets/base",
            "top": null,
            "grid_column": null,
            "overflow_y": null,
            "overflow_x": null,
            "grid_auto_flow": null,
            "grid_area": null,
            "grid_template_columns": null,
            "flex": null,
            "_model_name": "LayoutModel",
            "justify_items": null,
            "grid_row": null,
            "max_height": null,
            "align_content": null,
            "visibility": null,
            "align_self": null,
            "height": null,
            "min_height": null,
            "padding": null,
            "grid_auto_rows": null,
            "grid_gap": null,
            "max_width": null,
            "order": null,
            "_view_module_version": "1.2.0",
            "grid_template_areas": null,
            "object_position": null,
            "object_fit": null,
            "grid_auto_columns": null,
            "margin": null,
            "display": null,
            "left": null
          }
        },
        "342d8204c53a42feade5651afc794415": {
          "model_module": "@jupyter-widgets/controls",
          "model_name": "HBoxModel",
          "model_module_version": "1.5.0",
          "state": {
            "_view_name": "HBoxView",
            "_dom_classes": [],
            "_model_name": "HBoxModel",
            "_view_module": "@jupyter-widgets/controls",
            "_model_module_version": "1.5.0",
            "_view_count": null,
            "_view_module_version": "1.5.0",
            "box_style": "",
            "layout": "IPY_MODEL_76226327a4744edb98ecd98b4a3d041f",
            "_model_module": "@jupyter-widgets/controls",
            "children": [
              "IPY_MODEL_212751ebca3d43d186aeeafd1fb226b7",
              "IPY_MODEL_e2e1c237ee12406faac596bfe7c970fc"
            ]
          }
        },
        "76226327a4744edb98ecd98b4a3d041f": {
          "model_module": "@jupyter-widgets/base",
          "model_name": "LayoutModel",
          "model_module_version": "1.2.0",
          "state": {
            "_view_name": "LayoutView",
            "grid_template_rows": null,
            "right": null,
            "justify_content": null,
            "_view_module": "@jupyter-widgets/base",
            "overflow": null,
            "_model_module_version": "1.2.0",
            "_view_count": null,
            "flex_flow": null,
            "width": null,
            "min_width": null,
            "border": null,
            "align_items": null,
            "bottom": null,
            "_model_module": "@jupyter-widgets/base",
            "top": null,
            "grid_column": null,
            "overflow_y": null,
            "overflow_x": null,
            "grid_auto_flow": null,
            "grid_area": null,
            "grid_template_columns": null,
            "flex": null,
            "_model_name": "LayoutModel",
            "justify_items": null,
            "grid_row": null,
            "max_height": null,
            "align_content": null,
            "visibility": null,
            "align_self": null,
            "height": null,
            "min_height": null,
            "padding": null,
            "grid_auto_rows": null,
            "grid_gap": null,
            "max_width": null,
            "order": null,
            "_view_module_version": "1.2.0",
            "grid_template_areas": null,
            "object_position": null,
            "object_fit": null,
            "grid_auto_columns": null,
            "margin": null,
            "display": null,
            "left": null
          }
        },
        "212751ebca3d43d186aeeafd1fb226b7": {
          "model_module": "@jupyter-widgets/controls",
          "model_name": "FloatProgressModel",
          "model_module_version": "1.5.0",
          "state": {
            "_view_name": "ProgressView",
            "style": "IPY_MODEL_cc2ec465fc414429a52236d2a6405c56",
            "_dom_classes": [],
            "description": "Downloading: 100%",
            "_model_name": "FloatProgressModel",
            "bar_style": "success",
            "max": 543450661,
            "_view_module": "@jupyter-widgets/controls",
            "_model_module_version": "1.5.0",
            "value": 543450661,
            "_view_count": null,
            "_view_module_version": "1.5.0",
            "orientation": "horizontal",
            "min": 0,
            "description_tooltip": null,
            "_model_module": "@jupyter-widgets/controls",
            "layout": "IPY_MODEL_e888537f60f44c5c8ecd00202d966871"
          }
        },
        "e2e1c237ee12406faac596bfe7c970fc": {
          "model_module": "@jupyter-widgets/controls",
          "model_name": "HTMLModel",
          "model_module_version": "1.5.0",
          "state": {
            "_view_name": "HTMLView",
            "style": "IPY_MODEL_7a919eaf19804ca8bd1871c46cddc706",
            "_dom_classes": [],
            "description": "",
            "_model_name": "HTMLModel",
            "placeholder": "​",
            "_view_module": "@jupyter-widgets/controls",
            "_model_module_version": "1.5.0",
            "value": " 543M/543M [00:09&lt;00:00, 54.8MB/s]",
            "_view_count": null,
            "_view_module_version": "1.5.0",
            "description_tooltip": null,
            "_model_module": "@jupyter-widgets/controls",
            "layout": "IPY_MODEL_21a1608705d549599ac854d954910d0c"
          }
        },
        "cc2ec465fc414429a52236d2a6405c56": {
          "model_module": "@jupyter-widgets/controls",
          "model_name": "ProgressStyleModel",
          "model_module_version": "1.5.0",
          "state": {
            "_view_name": "StyleView",
            "_model_name": "ProgressStyleModel",
            "description_width": "initial",
            "_view_module": "@jupyter-widgets/base",
            "_model_module_version": "1.5.0",
            "_view_count": null,
            "_view_module_version": "1.2.0",
            "bar_color": null,
            "_model_module": "@jupyter-widgets/controls"
          }
        },
        "e888537f60f44c5c8ecd00202d966871": {
          "model_module": "@jupyter-widgets/base",
          "model_name": "LayoutModel",
          "model_module_version": "1.2.0",
          "state": {
            "_view_name": "LayoutView",
            "grid_template_rows": null,
            "right": null,
            "justify_content": null,
            "_view_module": "@jupyter-widgets/base",
            "overflow": null,
            "_model_module_version": "1.2.0",
            "_view_count": null,
            "flex_flow": null,
            "width": null,
            "min_width": null,
            "border": null,
            "align_items": null,
            "bottom": null,
            "_model_module": "@jupyter-widgets/base",
            "top": null,
            "grid_column": null,
            "overflow_y": null,
            "overflow_x": null,
            "grid_auto_flow": null,
            "grid_area": null,
            "grid_template_columns": null,
            "flex": null,
            "_model_name": "LayoutModel",
            "justify_items": null,
            "grid_row": null,
            "max_height": null,
            "align_content": null,
            "visibility": null,
            "align_self": null,
            "height": null,
            "min_height": null,
            "padding": null,
            "grid_auto_rows": null,
            "grid_gap": null,
            "max_width": null,
            "order": null,
            "_view_module_version": "1.2.0",
            "grid_template_areas": null,
            "object_position": null,
            "object_fit": null,
            "grid_auto_columns": null,
            "margin": null,
            "display": null,
            "left": null
          }
        },
        "7a919eaf19804ca8bd1871c46cddc706": {
          "model_module": "@jupyter-widgets/controls",
          "model_name": "DescriptionStyleModel",
          "model_module_version": "1.5.0",
          "state": {
            "_view_name": "StyleView",
            "_model_name": "DescriptionStyleModel",
            "description_width": "",
            "_view_module": "@jupyter-widgets/base",
            "_model_module_version": "1.5.0",
            "_view_count": null,
            "_view_module_version": "1.2.0",
            "_model_module": "@jupyter-widgets/controls"
          }
        },
        "21a1608705d549599ac854d954910d0c": {
          "model_module": "@jupyter-widgets/base",
          "model_name": "LayoutModel",
          "model_module_version": "1.2.0",
          "state": {
            "_view_name": "LayoutView",
            "grid_template_rows": null,
            "right": null,
            "justify_content": null,
            "_view_module": "@jupyter-widgets/base",
            "overflow": null,
            "_model_module_version": "1.2.0",
            "_view_count": null,
            "flex_flow": null,
            "width": null,
            "min_width": null,
            "border": null,
            "align_items": null,
            "bottom": null,
            "_model_module": "@jupyter-widgets/base",
            "top": null,
            "grid_column": null,
            "overflow_y": null,
            "overflow_x": null,
            "grid_auto_flow": null,
            "grid_area": null,
            "grid_template_columns": null,
            "flex": null,
            "_model_name": "LayoutModel",
            "justify_items": null,
            "grid_row": null,
            "max_height": null,
            "align_content": null,
            "visibility": null,
            "align_self": null,
            "height": null,
            "min_height": null,
            "padding": null,
            "grid_auto_rows": null,
            "grid_gap": null,
            "max_width": null,
            "order": null,
            "_view_module_version": "1.2.0",
            "grid_template_areas": null,
            "object_position": null,
            "object_fit": null,
            "grid_auto_columns": null,
            "margin": null,
            "display": null,
            "left": null
          }
        }
      }
    }
  },
  "cells": [
    {
      "cell_type": "markdown",
      "metadata": {
        "id": "AJjO8aFQKZ2T"
      },
      "source": [
        "#Fine-tune AraBERT with Fast-BERT library\n",
        "https://github.com/kaushaltrivedi/fast-ber"
      ]
    },
    {
      "cell_type": "code",
      "metadata": {
        "colab": {
          "base_uri": "https://localhost:8080/"
        },
        "id": "Fx4Z6GBq8e9f",
        "outputId": "dcc3b398-fbd5-4191-feb9-a17635ad3388"
      },
      "source": [
        "!git clone https://github.com/aub-mind/arabert\n",
        "!pip install PyArabic farasapy fast-bert"
      ],
      "execution_count": null,
      "outputs": [
        {
          "output_type": "stream",
          "text": [
            "Cloning into 'arabert'...\n",
            "remote: Enumerating objects: 518, done.\u001b[K\n",
            "remote: Counting objects: 100% (304/304), done.\u001b[K\n",
            "remote: Compressing objects: 100% (217/217), done.\u001b[K\n",
            "remote: Total 518 (delta 157), reused 223 (delta 81), pack-reused 214\u001b[K\n",
            "Receiving objects: 100% (518/518), 4.86 MiB | 13.66 MiB/s, done.\n",
            "Resolving deltas: 100% (280/280), done.\n",
            "Collecting PyArabic\n",
            "\u001b[?25l  Downloading https://files.pythonhosted.org/packages/7b/e2/46728ec2f6fe14970de5c782346609f0636262c0941228f363710903aaa1/PyArabic-0.6.10.tar.gz (108kB)\n",
            "\u001b[K     |████████████████████████████████| 112kB 7.8MB/s \n",
            "\u001b[?25hCollecting farasapy\n",
            "  Downloading https://files.pythonhosted.org/packages/fb/69/39ead86569e95141eede67703a93585be8454a801b7aab93ad1a7f0a8375/farasapy-0.0.13-py3-none-any.whl\n",
            "Collecting fast-bert\n",
            "\u001b[?25l  Downloading https://files.pythonhosted.org/packages/a2/c0/639002138d128d3462bfcf75858904ffeef8b29def6dac226e745c18440d/fast_bert-1.9.7-py3-none-any.whl (91kB)\n",
            "\u001b[K     |████████████████████████████████| 92kB 7.7MB/s \n",
            "\u001b[?25hRequirement already satisfied: requests in /usr/local/lib/python3.7/dist-packages (from farasapy) (2.23.0)\n",
            "Requirement already satisfied: tqdm in /usr/local/lib/python3.7/dist-packages (from farasapy) (4.41.1)\n",
            "Collecting pytorch-lamb\n",
            "  Downloading https://files.pythonhosted.org/packages/43/98/3bce14a319317a2856db722f2542d329baf42845fa53563d0d749c5a2d40/pytorch_lamb-1.0.0-py3-none-any.whl\n",
            "Collecting transformers==3.0.2\n",
            "\u001b[?25l  Downloading https://files.pythonhosted.org/packages/27/3c/91ed8f5c4e7ef3227b4119200fc0ed4b4fd965b1f0172021c25701087825/transformers-3.0.2-py3-none-any.whl (769kB)\n",
            "\u001b[K     |████████████████████████████████| 778kB 12.3MB/s \n",
            "\u001b[?25hRequirement already satisfied: pandas in /usr/local/lib/python3.7/dist-packages (from fast-bert) (1.1.5)\n",
            "Collecting tensorboardX\n",
            "\u001b[?25l  Downloading https://files.pythonhosted.org/packages/07/84/46421bd3e0e89a92682b1a38b40efc22dafb6d8e3d947e4ceefd4a5fabc7/tensorboardX-2.2-py2.py3-none-any.whl (120kB)\n",
            "\u001b[K     |████████████████████████████████| 122kB 22.1MB/s \n",
            "\u001b[?25hRequirement already satisfied: more-itertools in /usr/local/lib/python3.7/dist-packages (from fast-bert) (8.7.0)\n",
            "Requirement already satisfied: fastprogress in /usr/local/lib/python3.7/dist-packages (from fast-bert) (1.0.0)\n",
            "Collecting seqeval\n",
            "\u001b[?25l  Downloading https://files.pythonhosted.org/packages/9d/2d/233c79d5b4e5ab1dbf111242299153f3caddddbb691219f363ad55ce783d/seqeval-1.2.2.tar.gz (43kB)\n",
            "\u001b[K     |████████████████████████████████| 51kB 8.1MB/s \n",
            "\u001b[?25hRequirement already satisfied: matplotlib in /usr/local/lib/python3.7/dist-packages (from fast-bert) (3.2.2)\n",
            "Requirement already satisfied: sklearn in /usr/local/lib/python3.7/dist-packages (from fast-bert) (0.0)\n",
            "Requirement already satisfied: spacy in /usr/local/lib/python3.7/dist-packages (from fast-bert) (2.2.4)\n",
            "Collecting python-box\n",
            "  Downloading https://files.pythonhosted.org/packages/ae/55/b81be1c1456d93db93905b364d19cac5dde22fb8f442b42d41087c2fe28f/python_box-5.3.0-py3-none-any.whl\n",
            "Collecting tokenizers==0.8.1.rc1\n",
            "\u001b[?25l  Downloading https://files.pythonhosted.org/packages/02/59/68c7e3833f535615fb97d33ffcb7b30bbf62bc7477a9c59cd19ad8535d72/tokenizers-0.8.1rc1-cp37-cp37m-manylinux1_x86_64.whl (3.0MB)\n",
            "\u001b[K     |████████████████████████████████| 3.0MB 21.6MB/s \n",
            "\u001b[?25hRequirement already satisfied: urllib3!=1.25.0,!=1.25.1,<1.26,>=1.21.1 in /usr/local/lib/python3.7/dist-packages (from requests->farasapy) (1.24.3)\n",
            "Requirement already satisfied: chardet<4,>=3.0.2 in /usr/local/lib/python3.7/dist-packages (from requests->farasapy) (3.0.4)\n",
            "Requirement already satisfied: idna<3,>=2.5 in /usr/local/lib/python3.7/dist-packages (from requests->farasapy) (2.10)\n",
            "Requirement already satisfied: certifi>=2017.4.17 in /usr/local/lib/python3.7/dist-packages (from requests->farasapy) (2020.12.5)\n",
            "Requirement already satisfied: torch>=0.4.1 in /usr/local/lib/python3.7/dist-packages (from pytorch-lamb->fast-bert) (1.8.1+cu101)\n",
            "Requirement already satisfied: torchvision in /usr/local/lib/python3.7/dist-packages (from pytorch-lamb->fast-bert) (0.9.1+cu101)\n",
            "Requirement already satisfied: regex!=2019.12.17 in /usr/local/lib/python3.7/dist-packages (from transformers==3.0.2->fast-bert) (2019.12.20)\n",
            "Requirement already satisfied: filelock in /usr/local/lib/python3.7/dist-packages (from transformers==3.0.2->fast-bert) (3.0.12)\n",
            "Collecting sacremoses\n",
            "\u001b[?25l  Downloading https://files.pythonhosted.org/packages/08/cd/342e584ee544d044fb573ae697404ce22ede086c9e87ce5960772084cad0/sacremoses-0.0.44.tar.gz (862kB)\n",
            "\u001b[K     |████████████████████████████████| 870kB 35.3MB/s \n",
            "\u001b[?25hCollecting sentencepiece!=0.1.92\n",
            "\u001b[?25l  Downloading https://files.pythonhosted.org/packages/f5/99/e0808cb947ba10f575839c43e8fafc9cc44e4a7a2c8f79c60db48220a577/sentencepiece-0.1.95-cp37-cp37m-manylinux2014_x86_64.whl (1.2MB)\n",
            "\u001b[K     |████████████████████████████████| 1.2MB 48.9MB/s \n",
            "\u001b[?25hRequirement already satisfied: packaging in /usr/local/lib/python3.7/dist-packages (from transformers==3.0.2->fast-bert) (20.9)\n",
            "Requirement already satisfied: numpy in /usr/local/lib/python3.7/dist-packages (from transformers==3.0.2->fast-bert) (1.19.5)\n",
            "Requirement already satisfied: python-dateutil>=2.7.3 in /usr/local/lib/python3.7/dist-packages (from pandas->fast-bert) (2.8.1)\n",
            "Requirement already satisfied: pytz>=2017.2 in /usr/local/lib/python3.7/dist-packages (from pandas->fast-bert) (2018.9)\n",
            "Requirement already satisfied: protobuf>=3.8.0 in /usr/local/lib/python3.7/dist-packages (from tensorboardX->fast-bert) (3.12.4)\n",
            "Requirement already satisfied: scikit-learn>=0.21.3 in /usr/local/lib/python3.7/dist-packages (from seqeval->fast-bert) (0.22.2.post1)\n",
            "Requirement already satisfied: kiwisolver>=1.0.1 in /usr/local/lib/python3.7/dist-packages (from matplotlib->fast-bert) (1.3.1)\n",
            "Requirement already satisfied: pyparsing!=2.0.4,!=2.1.2,!=2.1.6,>=2.0.1 in /usr/local/lib/python3.7/dist-packages (from matplotlib->fast-bert) (2.4.7)\n",
            "Requirement already satisfied: cycler>=0.10 in /usr/local/lib/python3.7/dist-packages (from matplotlib->fast-bert) (0.10.0)\n",
            "Requirement already satisfied: srsly<1.1.0,>=1.0.2 in /usr/local/lib/python3.7/dist-packages (from spacy->fast-bert) (1.0.5)\n",
            "Requirement already satisfied: catalogue<1.1.0,>=0.0.7 in /usr/local/lib/python3.7/dist-packages (from spacy->fast-bert) (1.0.0)\n",
            "Requirement already satisfied: cymem<2.1.0,>=2.0.2 in /usr/local/lib/python3.7/dist-packages (from spacy->fast-bert) (2.0.5)\n",
            "Requirement already satisfied: plac<1.2.0,>=0.9.6 in /usr/local/lib/python3.7/dist-packages (from spacy->fast-bert) (1.1.3)\n",
            "Requirement already satisfied: blis<0.5.0,>=0.4.0 in /usr/local/lib/python3.7/dist-packages (from spacy->fast-bert) (0.4.1)\n",
            "Requirement already satisfied: setuptools in /usr/local/lib/python3.7/dist-packages (from spacy->fast-bert) (54.2.0)\n",
            "Requirement already satisfied: wasabi<1.1.0,>=0.4.0 in /usr/local/lib/python3.7/dist-packages (from spacy->fast-bert) (0.8.2)\n",
            "Requirement already satisfied: murmurhash<1.1.0,>=0.28.0 in /usr/local/lib/python3.7/dist-packages (from spacy->fast-bert) (1.0.5)\n",
            "Requirement already satisfied: preshed<3.1.0,>=3.0.2 in /usr/local/lib/python3.7/dist-packages (from spacy->fast-bert) (3.0.5)\n",
            "Requirement already satisfied: thinc==7.4.0 in /usr/local/lib/python3.7/dist-packages (from spacy->fast-bert) (7.4.0)\n",
            "Requirement already satisfied: typing-extensions in /usr/local/lib/python3.7/dist-packages (from torch>=0.4.1->pytorch-lamb->fast-bert) (3.7.4.3)\n",
            "Requirement already satisfied: pillow>=4.1.1 in /usr/local/lib/python3.7/dist-packages (from torchvision->pytorch-lamb->fast-bert) (7.1.2)\n",
            "Requirement already satisfied: six in /usr/local/lib/python3.7/dist-packages (from sacremoses->transformers==3.0.2->fast-bert) (1.15.0)\n",
            "Requirement already satisfied: click in /usr/local/lib/python3.7/dist-packages (from sacremoses->transformers==3.0.2->fast-bert) (7.1.2)\n",
            "Requirement already satisfied: joblib in /usr/local/lib/python3.7/dist-packages (from sacremoses->transformers==3.0.2->fast-bert) (1.0.1)\n",
            "Requirement already satisfied: scipy>=0.17.0 in /usr/local/lib/python3.7/dist-packages (from scikit-learn>=0.21.3->seqeval->fast-bert) (1.4.1)\n",
            "Requirement already satisfied: importlib-metadata>=0.20; python_version < \"3.8\" in /usr/local/lib/python3.7/dist-packages (from catalogue<1.1.0,>=0.0.7->spacy->fast-bert) (3.10.1)\n",
            "Requirement already satisfied: zipp>=0.5 in /usr/local/lib/python3.7/dist-packages (from importlib-metadata>=0.20; python_version < \"3.8\"->catalogue<1.1.0,>=0.0.7->spacy->fast-bert) (3.4.1)\n",
            "Building wheels for collected packages: PyArabic, seqeval, sacremoses\n",
            "  Building wheel for PyArabic (setup.py) ... \u001b[?25l\u001b[?25hdone\n",
            "  Created wheel for PyArabic: filename=PyArabic-0.6.10-cp37-none-any.whl size=113324 sha256=6075575fbff350e7d7c1b8e2338935c393331265d14f34d0bdd7f870b97c3131\n",
            "  Stored in directory: /root/.cache/pip/wheels/10/b8/f5/b7c1a50e6efb83544844f165a9b134afe7292585465e29b61d\n",
            "  Building wheel for seqeval (setup.py) ... \u001b[?25l\u001b[?25hdone\n",
            "  Created wheel for seqeval: filename=seqeval-1.2.2-cp37-none-any.whl size=16172 sha256=095dfbcef05c91c093015dd466af579942de5913ea238699ccd58a225cb3c5e2\n",
            "  Stored in directory: /root/.cache/pip/wheels/52/df/1b/45d75646c37428f7e626214704a0e35bd3cfc32eda37e59e5f\n",
            "  Building wheel for sacremoses (setup.py) ... \u001b[?25l\u001b[?25hdone\n",
            "  Created wheel for sacremoses: filename=sacremoses-0.0.44-cp37-none-any.whl size=886084 sha256=f7b68ca20ff967abcc2dcf3b4f05e51a8c09274e13037ad570b4f1f9f9a60fd1\n",
            "  Stored in directory: /root/.cache/pip/wheels/3e/fb/c0/13ab4d63d537658f448366744654323077c4d90069b6512f3c\n",
            "Successfully built PyArabic seqeval sacremoses\n",
            "Installing collected packages: PyArabic, farasapy, tensorboardX, pytorch-lamb, sacremoses, sentencepiece, tokenizers, transformers, seqeval, python-box, fast-bert\n",
            "Successfully installed PyArabic-0.6.10 farasapy-0.0.13 fast-bert-1.9.7 python-box-5.3.0 pytorch-lamb-1.0.0 sacremoses-0.0.44 sentencepiece-0.1.95 seqeval-1.2.2 tensorboardX-2.2 tokenizers-0.8.1rc1 transformers-3.0.2\n"
          ],
          "name": "stdout"
        }
      ]
    },
    {
      "cell_type": "code",
      "metadata": {
        "colab": {
          "base_uri": "https://localhost:8080/"
        },
        "id": "iA9DpXSq2KQR",
        "outputId": "52e1fa7e-dfbc-4356-de0b-5960af1bb7fd"
      },
      "source": [
        "!pip install emoji\n",
        "import emoji\n",
        "import regex \n",
        "import pandas as pd\n",
        "import os\n",
        "\n",
        "def split_count(text):\n",
        "\n",
        "    emoji_list = []\n",
        "    data = regex.findall(r'\\X', text)\n",
        "    for word in data:\n",
        "        if any(char in emoji.UNICODE_EMOJI for char in word):\n",
        "            emoji_list.append(word)\n",
        "\n",
        "    return emoji_list"
      ],
      "execution_count": null,
      "outputs": [
        {
          "output_type": "stream",
          "text": [
            "Collecting emoji\n",
            "\u001b[?25l  Downloading https://files.pythonhosted.org/packages/24/fa/b3368f41b95a286f8d300e323449ab4e86b85334c2e0b477e94422b8ed0f/emoji-1.2.0-py3-none-any.whl (131kB)\n",
            "\r\u001b[K     |██▌                             | 10kB 24.6MB/s eta 0:00:01\r\u001b[K     |█████                           | 20kB 14.7MB/s eta 0:00:01\r\u001b[K     |███████▌                        | 30kB 13.1MB/s eta 0:00:01\r\u001b[K     |██████████                      | 40kB 12.4MB/s eta 0:00:01\r\u001b[K     |████████████▌                   | 51kB 8.5MB/s eta 0:00:01\r\u001b[K     |███████████████                 | 61kB 7.8MB/s eta 0:00:01\r\u001b[K     |█████████████████▌              | 71kB 8.7MB/s eta 0:00:01\r\u001b[K     |████████████████████            | 81kB 9.6MB/s eta 0:00:01\r\u001b[K     |██████████████████████▌         | 92kB 9.0MB/s eta 0:00:01\r\u001b[K     |█████████████████████████       | 102kB 8.3MB/s eta 0:00:01\r\u001b[K     |███████████████████████████▌    | 112kB 8.3MB/s eta 0:00:01\r\u001b[K     |██████████████████████████████  | 122kB 8.3MB/s eta 0:00:01\r\u001b[K     |████████████████████████████████| 133kB 8.3MB/s \n",
            "\u001b[?25hInstalling collected packages: emoji\n",
            "Successfully installed emoji-1.2.0\n"
          ],
          "name": "stdout"
        }
      ]
    },
    {
      "cell_type": "code",
      "metadata": {
        "id": "55A9eNae2NN-"
      },
      "source": [
        "import re\n",
        "\n",
        "\n",
        "text = []\n",
        "type_of_emotion = []\n",
        "\n",
        "file1 = open('/content/SemEval2017-task4-train.subtask-A.arabic.txt','r')\n",
        "data= file1.readlines()\n",
        "\n",
        "for j in range(1,len(data)):\n",
        "  dt = data[j].split('\\t')\n",
        "  line = dt[2]\n",
        "  emojis = split_count(line)\n",
        "    \n",
        "  for em in emojis : \n",
        "    line = re.sub(em,'',line)\n",
        "  \n",
        "  line = re.sub('[0-9@]', '',line)\n",
        "  line = re.sub('[a-zA-z]', '',line)\n",
        "  line = re.sub('[#[]', '',line)\n",
        "  line = re.sub(']', '',line)\n",
        "  line = line.rstrip().lstrip()\n",
        "  text.append(line)\n",
        "  type_of_emotion.append(dt[1])\n",
        "\n"
      ],
      "execution_count": null,
      "outputs": []
    },
    {
      "cell_type": "code",
      "metadata": {
        "colab": {
          "base_uri": "https://localhost:8080/"
        },
        "id": "zuhNaoz22dHA",
        "outputId": "523c15da-88a0-4112-c039-c66dff3ed4fa"
      },
      "source": [
        "from farasa.segmenter import FarasaSegmenter\n",
        "from arabert.preprocess import ArabertPreprocessor\n",
        "farasa_segmenter = FarasaSegmenter(interactive=True)"
      ],
      "execution_count": null,
      "outputs": [
        {
          "output_type": "stream",
          "text": [
            "[2021-04-17 12:05:31,500 - farasapy_logger - WARNING]: Be careful with large lines as they may break on interactive mode. You may switch to Standalone mode for such cases.\n"
          ],
          "name": "stderr"
        }
      ]
    },
    {
      "cell_type": "code",
      "metadata": {
        "colab": {
          "base_uri": "https://localhost:8080/",
          "height": 241
        },
        "id": "AHhyJ8Tc2diS",
        "outputId": "a9117af4-a3d2-4f90-b91c-f8af610246f4"
      },
      "source": [
        "train_data = pd.DataFrame(data={'text':text,'label':type_of_emotion})\n",
        "segmenter = FarasaSegmenter(interactive=True)\n",
        "train_data['text'] = train_data['text'].apply(lambda x: segmenter.segment(x) )\n",
        "train_data.head()\n",
        "\n",
        "#train_data['text'] = train_data['text'].apply(lambda x: pre.preprocess(x, farasa=farasa_segmenter, use_farasapy = True) )\n",
        "#train_data.head()"
      ],
      "execution_count": null,
      "outputs": [
        {
          "output_type": "stream",
          "text": [
            "[2021-04-17 12:05:36,055 - farasapy_logger - WARNING]: Be careful with large lines as they may break on interactive mode. You may switch to Standalone mode for such cases.\n"
          ],
          "name": "stderr"
        },
        {
          "output_type": "execute_result",
          "data": {
            "text/html": [
              "<div>\n",
              "<style scoped>\n",
              "    .dataframe tbody tr th:only-of-type {\n",
              "        vertical-align: middle;\n",
              "    }\n",
              "\n",
              "    .dataframe tbody tr th {\n",
              "        vertical-align: top;\n",
              "    }\n",
              "\n",
              "    .dataframe thead th {\n",
              "        text-align: right;\n",
              "    }\n",
              "</style>\n",
              "<table border=\"1\" class=\"dataframe\">\n",
              "  <thead>\n",
              "    <tr style=\"text-align: right;\">\n",
              "      <th></th>\n",
              "      <th>text</th>\n",
              "      <th>label</th>\n",
              "    </tr>\n",
              "  </thead>\n",
              "  <tbody>\n",
              "    <tr>\n",
              "      <th>0</th>\n",
              "      <td>\" : غوغل تتحدى أبل و+أمازون ب+أجهز+ة جديد+ة : ...</td>\n",
              "      <td>positive</td>\n",
              "    </tr>\n",
              "    <tr>\n",
              "      <th>1</th>\n",
              "      <td>\" جوجل تنافس أبل و+سامسونج ب+هاتف جديد ://./\"</td>\n",
              "      <td>positive</td>\n",
              "    </tr>\n",
              "    <tr>\n",
              "      <th>2</th>\n",
              "      <td>\" رئيس شرك+ة أبل : ال+واقع ال+معزز س+يصبح أهم ...</td>\n",
              "      <td>positive</td>\n",
              "    </tr>\n",
              "    <tr>\n",
              "      <th>3</th>\n",
              "      <td>\" ساع+ة أبل في ال+أسواق مر+ة أخرى ://./\"</td>\n",
              "      <td>neutral</td>\n",
              "    </tr>\n",
              "    <tr>\n",
              "      <th>4</th>\n",
              "      <td>\" أبل و+ال+جسار تفقد+ا مدين+ة « صباح ال+أحمد »...</td>\n",
              "      <td>positive</td>\n",
              "    </tr>\n",
              "  </tbody>\n",
              "</table>\n",
              "</div>"
            ],
            "text/plain": [
              "                                                text     label\n",
              "0  \" : غوغل تتحدى أبل و+أمازون ب+أجهز+ة جديد+ة : ...  positive\n",
              "1      \" جوجل تنافس أبل و+سامسونج ب+هاتف جديد ://./\"  positive\n",
              "2  \" رئيس شرك+ة أبل : ال+واقع ال+معزز س+يصبح أهم ...  positive\n",
              "3           \" ساع+ة أبل في ال+أسواق مر+ة أخرى ://./\"   neutral\n",
              "4  \" أبل و+ال+جسار تفقد+ا مدين+ة « صباح ال+أحمد »...  positive"
            ]
          },
          "metadata": {
            "tags": []
          },
          "execution_count": 54
        }
      ]
    },
    {
      "cell_type": "code",
      "metadata": {
        "id": "jPqiOjLj585p"
      },
      "source": [
        "!mkdir data"
      ],
      "execution_count": null,
      "outputs": []
    },
    {
      "cell_type": "code",
      "metadata": {
        "id": "PayHPHaUPA8O"
      },
      "source": [
        "train_data.to_csv('data/train.csv',index=False)"
      ],
      "execution_count": null,
      "outputs": []
    },
    {
      "cell_type": "code",
      "metadata": {
        "colab": {
          "base_uri": "https://localhost:8080/",
          "height": 241
        },
        "id": "MJr_BxEL3pF9",
        "outputId": "3d67dda1-c355-4cf4-c296-327081178a87"
      },
      "source": [
        "text = []\n",
        "type_of_emotion = []\n",
        "\n",
        "file1 = open('/content/SemEval2017-task4-test.subtask-A.arabic.txt','r')\n",
        "data= file1.readlines()\n",
        "\n",
        "for j in range(1,len(data)):\n",
        "  dt = data[j].split('\\t')\n",
        "  line = dt[2]\n",
        "  emojis = split_count(line)\n",
        "    \n",
        "  for em in emojis : \n",
        "    line = re.sub(em,'',line)\n",
        "  \n",
        "  line = re.sub('[0-9@]', '',line)\n",
        "  line = re.sub('[a-zA-z]', '',line)\n",
        "  line = re.sub('[#[]', '',line)\n",
        "  line = re.sub(']', '',line)\n",
        "  line = line.rstrip().lstrip()\n",
        "  text.append(line)\n",
        "  type_of_emotion.append(dt[1])\n",
        "test_data = pd.DataFrame(data={'text':text,'label':type_of_emotion})\n",
        "segmenter = FarasaSegmenter(interactive=True)\n",
        "test_data['text'] = test_data['text'].apply(lambda x: segmenter.segment(x) )\n",
        "test_data.head()\n"
      ],
      "execution_count": null,
      "outputs": [
        {
          "output_type": "stream",
          "text": [
            "[2021-04-17 12:06:01,505 - farasapy_logger - WARNING]: Be careful with large lines as they may break on interactive mode. You may switch to Standalone mode for such cases.\n"
          ],
          "name": "stderr"
        },
        {
          "output_type": "execute_result",
          "data": {
            "text/html": [
              "<div>\n",
              "<style scoped>\n",
              "    .dataframe tbody tr th:only-of-type {\n",
              "        vertical-align: middle;\n",
              "    }\n",
              "\n",
              "    .dataframe tbody tr th {\n",
              "        vertical-align: top;\n",
              "    }\n",
              "\n",
              "    .dataframe thead th {\n",
              "        text-align: right;\n",
              "    }\n",
              "</style>\n",
              "<table border=\"1\" class=\"dataframe\">\n",
              "  <thead>\n",
              "    <tr style=\"text-align: right;\">\n",
              "      <th></th>\n",
              "      <th>text</th>\n",
              "      <th>label</th>\n",
              "    </tr>\n",
              "  </thead>\n",
              "  <tbody>\n",
              "    <tr>\n",
              "      <th>0</th>\n",
              "      <td>\" كلام سليم \"</td>\n",
              "      <td>UNKNOWN</td>\n",
              "    </tr>\n",
              "    <tr>\n",
              "      <th>1</th>\n",
              "      <td>\" ياخزياه بس صارخ+ت صراخ و+ازعج+ت+كم مشكل+ة ال...</td>\n",
              "      <td>UNKNOWN</td>\n",
              "    </tr>\n",
              "    <tr>\n",
              "      <th>2</th>\n",
              "      <td>\" صوتي راح اقولك ? ? \"</td>\n",
              "      <td>UNKNOWN</td>\n",
              "    </tr>\n",
              "    <tr>\n",
              "      <th>3</th>\n",
              "      <td>\" أنا ماخفت من شي الا ان يكون عقلي+ة مشجع+ي ال...</td>\n",
              "      <td>UNKNOWN</td>\n",
              "    </tr>\n",
              "    <tr>\n",
              "      <th>4</th>\n",
              "      <td>\" ب+دخل ال+كلاس ب+طريق+ة احتفال كريستيانو ://./\"</td>\n",
              "      <td>UNKNOWN</td>\n",
              "    </tr>\n",
              "  </tbody>\n",
              "</table>\n",
              "</div>"
            ],
            "text/plain": [
              "                                                text    label\n",
              "0                                      \" كلام سليم \"  UNKNOWN\n",
              "1  \" ياخزياه بس صارخ+ت صراخ و+ازعج+ت+كم مشكل+ة ال...  UNKNOWN\n",
              "2                             \" صوتي راح اقولك ? ? \"  UNKNOWN\n",
              "3  \" أنا ماخفت من شي الا ان يكون عقلي+ة مشجع+ي ال...  UNKNOWN\n",
              "4   \" ب+دخل ال+كلاس ب+طريق+ة احتفال كريستيانو ://./\"  UNKNOWN"
            ]
          },
          "metadata": {
            "tags": []
          },
          "execution_count": 55
        }
      ]
    },
    {
      "cell_type": "code",
      "metadata": {
        "id": "VTXrSebFPNbj"
      },
      "source": [
        "test_data.to_csv('data/test.csv',index=False)"
      ],
      "execution_count": null,
      "outputs": []
    },
    {
      "cell_type": "code",
      "metadata": {
        "colab": {
          "base_uri": "https://localhost:8080/",
          "height": 241
        },
        "id": "QQVoQewY3hjU",
        "outputId": "59371343-030a-437a-b0f7-d0aff69b2129"
      },
      "source": [
        "text = []\n",
        "type_of_emotion = []\n",
        "\n",
        "file1 = open('/content/SemEval2017-task4-dev.subtask-A.arabic.INPUT VALIDATION.txt','r')\n",
        "data= file1.readlines()\n",
        "\n",
        "for j in range(1,len(data)):\n",
        "  dt = data[j].split('\\t')\n",
        "  line = dt[2]\n",
        "  emojis = split_count(line)\n",
        "    \n",
        "  for em in emojis : \n",
        "    line = re.sub(em,'',line)\n",
        "  \n",
        "  line = re.sub('[0-9@]', '',line)\n",
        "  line = re.sub('[a-zA-z]', '',line)\n",
        "  line = re.sub('[0-9@]', '',line)\n",
        "  line = re.sub('[a-zA-z]', '',line)\n",
        "  line = re.sub('[#[]', '',line)\n",
        "  line = re.sub(']', '',line)\n",
        "  line = line.rstrip().lstrip()\n",
        "  text.append(line)\n",
        "  type_of_emotion.append(dt[1])\n",
        "val_data = pd.DataFrame(data={'text':text,'label':type_of_emotion})\n",
        "segmenter = FarasaSegmenter(interactive=True)\n",
        "val_data['text'] = val_data['text'].apply(lambda x: segmenter.segment(x) )\n",
        "val_data.head()\n"
      ],
      "execution_count": null,
      "outputs": [
        {
          "output_type": "stream",
          "text": [
            "[2021-04-17 12:06:17,198 - farasapy_logger - WARNING]: Be careful with large lines as they may break on interactive mode. You may switch to Standalone mode for such cases.\n"
          ],
          "name": "stderr"
        },
        {
          "output_type": "execute_result",
          "data": {
            "text/html": [
              "<div>\n",
              "<style scoped>\n",
              "    .dataframe tbody tr th:only-of-type {\n",
              "        vertical-align: middle;\n",
              "    }\n",
              "\n",
              "    .dataframe tbody tr th {\n",
              "        vertical-align: top;\n",
              "    }\n",
              "\n",
              "    .dataframe thead th {\n",
              "        text-align: right;\n",
              "    }\n",
              "</style>\n",
              "<table border=\"1\" class=\"dataframe\">\n",
              "  <thead>\n",
              "    <tr style=\"text-align: right;\">\n",
              "      <th></th>\n",
              "      <th>text</th>\n",
              "      <th>label</th>\n",
              "    </tr>\n",
              "  </thead>\n",
              "  <tbody>\n",
              "    <tr>\n",
              "      <th>0</th>\n",
              "      <td>\" أخر صيح+ة من حقائب ال+يد من ف+ندي و+غوتشي :/...</td>\n",
              "      <td>neutral</td>\n",
              "    </tr>\n",
              "    <tr>\n",
              "      <th>1</th>\n",
              "      <td>\" تتشرف باريغاليري ب+دعو+ت+كم ل+حضور و+مقابل+ة...</td>\n",
              "      <td>positive</td>\n",
              "    </tr>\n",
              "    <tr>\n",
              "      <th>2</th>\n",
              "      <td>\" : ستايلبنطال نامج+ون ال+جينز ل+صور كان ب+سعر...</td>\n",
              "      <td>neutral</td>\n",
              "    </tr>\n",
              "    <tr>\n",
              "      <th>3</th>\n",
              "      <td>\" : كريس في ازياء كريس جميع+ها من بربري من ال+...</td>\n",
              "      <td>neutral</td>\n",
              "    </tr>\n",
              "    <tr>\n",
              "      <th>4</th>\n",
              "      <td>\" تعرف+ي على حذاء غوتشي الذي يجمع بين ال+كعب ا...</td>\n",
              "      <td>neutral</td>\n",
              "    </tr>\n",
              "  </tbody>\n",
              "</table>\n",
              "</div>"
            ],
            "text/plain": [
              "                                                text     label\n",
              "0  \" أخر صيح+ة من حقائب ال+يد من ف+ندي و+غوتشي :/...   neutral\n",
              "1  \" تتشرف باريغاليري ب+دعو+ت+كم ل+حضور و+مقابل+ة...  positive\n",
              "2  \" : ستايلبنطال نامج+ون ال+جينز ل+صور كان ب+سعر...   neutral\n",
              "3  \" : كريس في ازياء كريس جميع+ها من بربري من ال+...   neutral\n",
              "4  \" تعرف+ي على حذاء غوتشي الذي يجمع بين ال+كعب ا...   neutral"
            ]
          },
          "metadata": {
            "tags": []
          },
          "execution_count": 56
        }
      ]
    },
    {
      "cell_type": "code",
      "metadata": {
        "id": "-z4UFABZPR4n"
      },
      "source": [
        "val_data.to_csv('data/dev.csv',index=False)"
      ],
      "execution_count": null,
      "outputs": []
    },
    {
      "cell_type": "markdown",
      "metadata": {
        "id": "vTWKMKNjKi6R"
      },
      "source": [
        "##Get Requirements"
      ]
    },
    {
      "cell_type": "markdown",
      "metadata": {
        "id": "yF046S5JKnCw"
      },
      "source": [
        "##Prepare the data"
      ]
    },
    {
      "cell_type": "code",
      "metadata": {
        "id": "iCcdj_eiBrj3"
      },
      "source": [
        "import pandas as pd\n",
        "\n",
        "label_map = {'positive':1,'negative':-1,'neutral':0}\n",
        "\n",
        "with open('data/labels.csv','w') as f:\n",
        "  f.write(\"\\n\".join(train_data['label'].unique()))"
      ],
      "execution_count": null,
      "outputs": []
    },
    {
      "cell_type": "markdown",
      "metadata": {
        "id": "-LANtQdwKrFn"
      },
      "source": [
        "##Create a DataBunch Object:\n",
        "see https://github.com/kaushaltrivedi/fast-bert#text-classification"
      ]
    },
    {
      "cell_type": "code",
      "metadata": {
        "colab": {
          "base_uri": "https://localhost:8080/",
          "height": 213,
          "referenced_widgets": [
            "65c390aa25b64bb8895fd305f1b260e6",
            "5b2aff385d234135a51091e0fce1a3dc",
            "6f33c011f2cc4204a4c6364bae1eebf8",
            "9f4658c3f918492fa49f8e2109de3279",
            "983f333b90544359846e0ece580f9ea2",
            "253ed8a131084aa48ca3b822d0a2cd54",
            "36b72fd962c841c2ade7a7cceea69b9f",
            "2b61fa108a4f4c8b89a77d9edc916848",
            "47eebe1cd93245719a4daec25dc1431a",
            "6668781ad2c94bb3b0a3b5867d328695",
            "1b5f1d4d5eab4431bed2c64841648bbf",
            "256780beeac54b18a1448dac77deb89f",
            "2268c2c39a834e8dace4d4fde6176401",
            "2665c5eccc1c43eb834c71cde0b3083e",
            "2887d00e09744ea089d3a32979d6ceba",
            "243e734e7f5b41919db49ce76275ea11",
            "2b91f43d9f95486ba38e3076cf5ab383",
            "064c0cc323ca4970b8d5eab29ff19e4a",
            "4c7798302602469399c2dd3b231ef2b4",
            "e001de677f3145dba820553ede8f0fc2",
            "cd8a627dfb174f8a950ebf23d99f7ebc",
            "bc3f644633254837b492cc16ee0fec46",
            "d371b0f229834e4c97309959a6b286d2",
            "18595567872f434aacb531394b7dc70f",
            "c16a8b6b756748a7a8d5b39bfe2927fb",
            "0429e12fe5ba48a4ac28fcc6ccae0a47",
            "c6ca9e704c9d400b9b50b94b1162408b",
            "a29cc42f918147ebb5526d3d15a016bb",
            "fee3923a5c1b4c09909bc0a445648626",
            "edd05e3cece0491da535c2cb8c54b44e",
            "e431c14064cf46cebda79189dedb3f41",
            "7794b7edc6cc44a8a7d9086ba15c094b"
          ]
        },
        "id": "2lVY_0-tCFRL",
        "outputId": "c5794a59-62e0-4293-ee9c-b105d2725358"
      },
      "source": [
        "from fast_bert.data_cls import BertDataBunch\n",
        "from transformers import AutoTokenizer\n",
        "\n",
        "tokenizer = AutoTokenizer.from_pretrained('aubmindlab/bert-base-arabert')\n",
        "\n",
        "databunch = BertDataBunch('./data/', './data/',\n",
        "                          tokenizer=tokenizer,\n",
        "                          train_file='train.csv',\n",
        "                          val_file='dev.csv',\n",
        "                          label_file='labels.csv',\n",
        "                          text_col='text',\n",
        "                          label_col='label',\n",
        "                          batch_size_per_gpu=16,\n",
        "                          max_seq_length=256,\n",
        "                          multi_gpu=True,\n",
        "                          multi_label= False,\n",
        "                          model_type='bert',\n",
        "                          )"
      ],
      "execution_count": null,
      "outputs": [
        {
          "output_type": "display_data",
          "data": {
            "application/vnd.jupyter.widget-view+json": {
              "model_id": "65c390aa25b64bb8895fd305f1b260e6",
              "version_minor": 0,
              "version_major": 2
            },
            "text/plain": [
              "HBox(children=(FloatProgress(value=0.0, description='Downloading', max=572.0, style=ProgressStyle(description_…"
            ]
          },
          "metadata": {
            "tags": []
          }
        },
        {
          "output_type": "stream",
          "text": [
            "\n"
          ],
          "name": "stdout"
        },
        {
          "output_type": "display_data",
          "data": {
            "application/vnd.jupyter.widget-view+json": {
              "model_id": "47eebe1cd93245719a4daec25dc1431a",
              "version_minor": 0,
              "version_major": 2
            },
            "text/plain": [
              "HBox(children=(FloatProgress(value=0.0, description='Downloading', max=717153.0, style=ProgressStyle(descripti…"
            ]
          },
          "metadata": {
            "tags": []
          }
        },
        {
          "output_type": "stream",
          "text": [
            "\n"
          ],
          "name": "stdout"
        },
        {
          "output_type": "display_data",
          "data": {
            "application/vnd.jupyter.widget-view+json": {
              "model_id": "2b91f43d9f95486ba38e3076cf5ab383",
              "version_minor": 0,
              "version_major": 2
            },
            "text/plain": [
              "HBox(children=(FloatProgress(value=0.0, description='Downloading', max=112.0, style=ProgressStyle(description_…"
            ]
          },
          "metadata": {
            "tags": []
          }
        },
        {
          "output_type": "stream",
          "text": [
            "\n"
          ],
          "name": "stdout"
        },
        {
          "output_type": "display_data",
          "data": {
            "application/vnd.jupyter.widget-view+json": {
              "model_id": "c16a8b6b756748a7a8d5b39bfe2927fb",
              "version_minor": 0,
              "version_major": 2
            },
            "text/plain": [
              "HBox(children=(FloatProgress(value=0.0, description='Downloading', max=406.0, style=ProgressStyle(description_…"
            ]
          },
          "metadata": {
            "tags": []
          }
        },
        {
          "output_type": "stream",
          "text": [
            "\n"
          ],
          "name": "stdout"
        }
      ]
    },
    {
      "cell_type": "markdown",
      "metadata": {
        "id": "G41boItaK4dP"
      },
      "source": [
        "##Create the Learner Object\n",
        "see https://github.com/kaushaltrivedi/fast-bert#2-create-a-learner-object"
      ]
    },
    {
      "cell_type": "code",
      "metadata": {
        "colab": {
          "base_uri": "https://localhost:8080/",
          "height": 919,
          "referenced_widgets": [
            "342d8204c53a42feade5651afc794415",
            "76226327a4744edb98ecd98b4a3d041f",
            "212751ebca3d43d186aeeafd1fb226b7",
            "e2e1c237ee12406faac596bfe7c970fc",
            "cc2ec465fc414429a52236d2a6405c56",
            "e888537f60f44c5c8ecd00202d966871",
            "7a919eaf19804ca8bd1871c46cddc706",
            "21a1608705d549599ac854d954910d0c"
          ]
        },
        "id": "5ZDfOBDUCkH0",
        "outputId": "e05e5562-7642-4631-b6d5-a255d4fc26ed"
      },
      "source": [
        "import logging\n",
        "import torch\n",
        "\n",
        "from fast_bert.learner_cls import BertLearner\n",
        "from fast_bert.metrics import accuracy\n",
        "\n",
        "logging.basicConfig(level=logging.INFO)\n",
        "logger = logging.getLogger(__name__)\n",
        "\n",
        "device_cuda = torch.device(\"cuda\")\n",
        "metrics = [{'name': 'accuracy', 'function': accuracy}]\n",
        "\n",
        "!mkdir 'output'\n",
        "learner = BertLearner.from_pretrained_model(\n",
        "\t\t\t\t\t\tdatabunch,\n",
        "\t\t\t\t\t\tpretrained_path='aubmindlab/bert-base-arabert',\n",
        "\t\t\t\t\t\tmetrics=metrics,\n",
        "\t\t\t\t\t\tdevice=device_cuda,\n",
        "\t\t\t\t\t\tlogger=logger,\n",
        "\t\t\t\t\t\toutput_dir='output',\n",
        "\t\t\t\t\t\tfinetuned_wgts_path=None,\n",
        "\t\t\t\t\t\twarmup_steps=30,\n",
        "\t\t\t\t\t\tmulti_gpu=False,\n",
        "\t\t\t\t\t\tis_fp16=False,\n",
        "\t\t\t\t\t\tmulti_label= False,\n",
        "\t\t\t\t\t\tlogging_steps=0)"
      ],
      "execution_count": null,
      "outputs": [
        {
          "output_type": "stream",
          "text": [
            "INFO:transformers.configuration_utils:loading configuration file https://s3.amazonaws.com/models.huggingface.co/bert/aubmindlab/bert-base-arabert/config.json from cache at /root/.cache/torch/transformers/91c3e98e149f6e88215bffd705e4ef9bd8a355f4c317973e4f3868c6f93fa24a.87c61215f57298a5ff1f7680910adeb70154f00bf4e7a0fe7d5ab21ee115c7cf\n",
            "INFO:transformers.configuration_utils:Model config BertConfig {\n",
            "  \"architectures\": [\n",
            "    \"BertModel\"\n",
            "  ],\n",
            "  \"attention_probs_dropout_prob\": 0.1,\n",
            "  \"directionality\": \"bidi\",\n",
            "  \"gradient_checkpointing\": false,\n",
            "  \"hidden_act\": \"gelu\",\n",
            "  \"hidden_dropout_prob\": 0.1,\n",
            "  \"hidden_size\": 768,\n",
            "  \"id2label\": {\n",
            "    \"0\": \"LABEL_0\",\n",
            "    \"1\": \"LABEL_1\",\n",
            "    \"2\": \"LABEL_2\"\n",
            "  },\n",
            "  \"initializer_range\": 0.02,\n",
            "  \"intermediate_size\": 3072,\n",
            "  \"label2id\": {\n",
            "    \"LABEL_0\": 0,\n",
            "    \"LABEL_1\": 1,\n",
            "    \"LABEL_2\": 2\n",
            "  },\n",
            "  \"layer_norm_eps\": 1e-12,\n",
            "  \"max_position_embeddings\": 512,\n",
            "  \"model_type\": \"bert\",\n",
            "  \"num_attention_heads\": 12,\n",
            "  \"num_hidden_layers\": 12,\n",
            "  \"pad_token_id\": 0,\n",
            "  \"pooler_fc_size\": 768,\n",
            "  \"pooler_num_attention_heads\": 12,\n",
            "  \"pooler_num_fc_layers\": 3,\n",
            "  \"pooler_size_per_head\": 128,\n",
            "  \"pooler_type\": \"first_token_transform\",\n",
            "  \"type_vocab_size\": 2,\n",
            "  \"vocab_size\": 64000\n",
            "}\n",
            "\n",
            "INFO:filelock:Lock 140416900736016 acquired on /root/.cache/torch/transformers/26f8720a79d80f7ae70d448d93e09fed364a6b0393c95a026519402dbd1313b2.8867d4172d26dd413ba8029e13bbe7eb5b9ae301b62c259f8be84ee78c0beb0c.lock\n",
            "INFO:transformers.file_utils:https://cdn.huggingface.co/aubmindlab/bert-base-arabert/pytorch_model.bin not found in cache or force_download set to True, downloading to /root/.cache/torch/transformers/tmpttj4veb2\n"
          ],
          "name": "stderr"
        },
        {
          "output_type": "display_data",
          "data": {
            "application/vnd.jupyter.widget-view+json": {
              "model_id": "342d8204c53a42feade5651afc794415",
              "version_minor": 0,
              "version_major": 2
            },
            "text/plain": [
              "HBox(children=(FloatProgress(value=0.0, description='Downloading', max=543450661.0, style=ProgressStyle(descri…"
            ]
          },
          "metadata": {
            "tags": []
          }
        },
        {
          "output_type": "stream",
          "text": [
            "INFO:transformers.file_utils:storing https://cdn.huggingface.co/aubmindlab/bert-base-arabert/pytorch_model.bin in cache at /root/.cache/torch/transformers/26f8720a79d80f7ae70d448d93e09fed364a6b0393c95a026519402dbd1313b2.8867d4172d26dd413ba8029e13bbe7eb5b9ae301b62c259f8be84ee78c0beb0c\n",
            "INFO:transformers.file_utils:creating metadata file for /root/.cache/torch/transformers/26f8720a79d80f7ae70d448d93e09fed364a6b0393c95a026519402dbd1313b2.8867d4172d26dd413ba8029e13bbe7eb5b9ae301b62c259f8be84ee78c0beb0c\n",
            "INFO:filelock:Lock 140416900736016 released on /root/.cache/torch/transformers/26f8720a79d80f7ae70d448d93e09fed364a6b0393c95a026519402dbd1313b2.8867d4172d26dd413ba8029e13bbe7eb5b9ae301b62c259f8be84ee78c0beb0c.lock\n",
            "INFO:transformers.modeling_utils:loading weights file https://cdn.huggingface.co/aubmindlab/bert-base-arabert/pytorch_model.bin from cache at /root/.cache/torch/transformers/26f8720a79d80f7ae70d448d93e09fed364a6b0393c95a026519402dbd1313b2.8867d4172d26dd413ba8029e13bbe7eb5b9ae301b62c259f8be84ee78c0beb0c\n"
          ],
          "name": "stderr"
        },
        {
          "output_type": "stream",
          "text": [
            "\n"
          ],
          "name": "stdout"
        },
        {
          "output_type": "stream",
          "text": [
            "WARNING:transformers.modeling_utils:Some weights of the model checkpoint at aubmindlab/bert-base-arabert were not used when initializing BertForMultiLabelSequenceClassification: ['cls.predictions.bias', 'cls.predictions.transform.dense.weight', 'cls.predictions.transform.dense.bias', 'cls.predictions.transform.LayerNorm.weight', 'cls.predictions.transform.LayerNorm.bias', 'cls.predictions.decoder.weight', 'cls.seq_relationship.weight', 'cls.seq_relationship.bias']\n",
            "- This IS expected if you are initializing BertForMultiLabelSequenceClassification from the checkpoint of a model trained on another task or with another architecture (e.g. initializing a BertForSequenceClassification model from a BertForPretraining model).\n",
            "- This IS NOT expected if you are initializing BertForMultiLabelSequenceClassification from the checkpoint of a model that you expect to be exactly identical (initializing a BertForSequenceClassification model from a BertForSequenceClassification model).\n",
            "WARNING:transformers.modeling_utils:Some weights of BertForMultiLabelSequenceClassification were not initialized from the model checkpoint at aubmindlab/bert-base-arabert and are newly initialized: ['classifier.weight', 'classifier.bias']\n",
            "You should probably TRAIN this model on a down-stream task to be able to use it for predictions and inference.\n"
          ],
          "name": "stderr"
        }
      ]
    },
    {
      "cell_type": "markdown",
      "metadata": {
        "id": "h-6B7bGDLAVD"
      },
      "source": [
        "##Start Training and Validating"
      ]
    },
    {
      "cell_type": "code",
      "metadata": {
        "colab": {
          "base_uri": "https://localhost:8080/",
          "height": 1000
        },
        "id": "FKNQZffIC6aX",
        "outputId": "691a1e38-49a4-4809-c358-dad9876504eb"
      },
      "source": [
        "learner.fit(epochs=5,\n",
        "\t\t\tlr=2e-5,\n",
        "\t\t\tvalidate=True, \t# Evaluate the model after each epoch\n",
        "\t\t\tschedule_type=\"warmup_linear\",\n",
        "\t\t\toptimizer_type=\"adamw\")"
      ],
      "execution_count": null,
      "outputs": [
        {
          "output_type": "stream",
          "text": [
            "INFO:__main__:***** Running training *****\n",
            "INFO:__main__:  Num examples = 3354\n",
            "INFO:__main__:  Num Epochs = 5\n",
            "INFO:__main__:  Total train batch size (w. parallel, distributed & accumulation) = 16\n",
            "INFO:__main__:  Gradient Accumulation steps = 1\n",
            "INFO:__main__:  Total optimization steps = 1050\n"
          ],
          "name": "stderr"
        },
        {
          "output_type": "display_data",
          "data": {
            "text/html": [
              ""
            ],
            "text/plain": [
              "<IPython.core.display.HTML object>"
            ]
          },
          "metadata": {
            "tags": []
          }
        },
        {
          "output_type": "stream",
          "text": [
            "INFO:__main__:Running evaluation\n",
            "INFO:__main__:  Num examples = 670\n",
            "INFO:__main__:  Batch size = 32\n"
          ],
          "name": "stderr"
        },
        {
          "output_type": "display_data",
          "data": {
            "text/html": [
              "\n",
              "    <div>\n",
              "        <style>\n",
              "            /* Turns off some styling */\n",
              "            progress {\n",
              "                /* gets rid of default border in Firefox and Opera. */\n",
              "                border: none;\n",
              "                /* Needs to be in here for Safari polyfill so background images work as expected. */\n",
              "                background-size: auto;\n",
              "            }\n",
              "            .progress-bar-interrupted, .progress-bar-interrupted::-webkit-progress-bar {\n",
              "                background: #F44336;\n",
              "            }\n",
              "        </style>\n",
              "      <progress value='21' class='' max='21' style='width:300px; height:20px; vertical-align: middle;'></progress>\n",
              "      100.00% [21/21 00:11<00:00]\n",
              "    </div>\n",
              "    "
            ],
            "text/plain": [
              "<IPython.core.display.HTML object>"
            ]
          },
          "metadata": {
            "tags": []
          }
        },
        {
          "output_type": "stream",
          "text": [
            "INFO:__main__:eval_loss after epoch 1: 0.41318853270439876: \n",
            "INFO:__main__:eval_accuracy after epoch 1: 0.0: \n",
            "/usr/local/lib/python3.7/dist-packages/torch/optim/lr_scheduler.py:247: UserWarning: To get the last learning rate computed by the scheduler, please use `get_last_lr()`.\n",
            "  warnings.warn(\"To get the last learning rate computed by the scheduler, \"\n",
            "INFO:__main__:lr after epoch 1: 1.647058823529412e-05\n",
            "INFO:__main__:train_loss after epoch 1: 0.5328093815417517\n",
            "INFO:__main__:\n",
            "\n",
            "INFO:__main__:Running evaluation\n",
            "INFO:__main__:  Num examples = 670\n",
            "INFO:__main__:  Batch size = 32\n"
          ],
          "name": "stderr"
        },
        {
          "output_type": "display_data",
          "data": {
            "text/html": [
              "\n",
              "    <div>\n",
              "        <style>\n",
              "            /* Turns off some styling */\n",
              "            progress {\n",
              "                /* gets rid of default border in Firefox and Opera. */\n",
              "                border: none;\n",
              "                /* Needs to be in here for Safari polyfill so background images work as expected. */\n",
              "                background-size: auto;\n",
              "            }\n",
              "            .progress-bar-interrupted, .progress-bar-interrupted::-webkit-progress-bar {\n",
              "                background: #F44336;\n",
              "            }\n",
              "        </style>\n",
              "      <progress value='21' class='' max='21' style='width:300px; height:20px; vertical-align: middle;'></progress>\n",
              "      100.00% [21/21 00:11<00:00]\n",
              "    </div>\n",
              "    "
            ],
            "text/plain": [
              "<IPython.core.display.HTML object>"
            ]
          },
          "metadata": {
            "tags": []
          }
        },
        {
          "output_type": "stream",
          "text": [
            "INFO:__main__:eval_loss after epoch 2: 0.3277846667028609: \n",
            "INFO:__main__:eval_accuracy after epoch 2: 0.0: \n",
            "INFO:__main__:lr after epoch 2: 1.235294117647059e-05\n",
            "INFO:__main__:train_loss after epoch 2: 0.38924204465888795\n",
            "INFO:__main__:\n",
            "\n",
            "INFO:__main__:Running evaluation\n",
            "INFO:__main__:  Num examples = 670\n",
            "INFO:__main__:  Batch size = 32\n"
          ],
          "name": "stderr"
        },
        {
          "output_type": "display_data",
          "data": {
            "text/html": [
              "\n",
              "    <div>\n",
              "        <style>\n",
              "            /* Turns off some styling */\n",
              "            progress {\n",
              "                /* gets rid of default border in Firefox and Opera. */\n",
              "                border: none;\n",
              "                /* Needs to be in here for Safari polyfill so background images work as expected. */\n",
              "                background-size: auto;\n",
              "            }\n",
              "            .progress-bar-interrupted, .progress-bar-interrupted::-webkit-progress-bar {\n",
              "                background: #F44336;\n",
              "            }\n",
              "        </style>\n",
              "      <progress value='21' class='' max='21' style='width:300px; height:20px; vertical-align: middle;'></progress>\n",
              "      100.00% [21/21 00:11<00:00]\n",
              "    </div>\n",
              "    "
            ],
            "text/plain": [
              "<IPython.core.display.HTML object>"
            ]
          },
          "metadata": {
            "tags": []
          }
        },
        {
          "output_type": "stream",
          "text": [
            "INFO:__main__:eval_loss after epoch 3: 0.16919172803560892: \n",
            "INFO:__main__:eval_accuracy after epoch 3: 0.0: \n",
            "INFO:__main__:lr after epoch 3: 8.23529411764706e-06\n",
            "INFO:__main__:train_loss after epoch 3: 0.27400351904687426\n",
            "INFO:__main__:\n",
            "\n",
            "INFO:__main__:Running evaluation\n",
            "INFO:__main__:  Num examples = 670\n",
            "INFO:__main__:  Batch size = 32\n"
          ],
          "name": "stderr"
        },
        {
          "output_type": "display_data",
          "data": {
            "text/html": [
              "\n",
              "    <div>\n",
              "        <style>\n",
              "            /* Turns off some styling */\n",
              "            progress {\n",
              "                /* gets rid of default border in Firefox and Opera. */\n",
              "                border: none;\n",
              "                /* Needs to be in here for Safari polyfill so background images work as expected. */\n",
              "                background-size: auto;\n",
              "            }\n",
              "            .progress-bar-interrupted, .progress-bar-interrupted::-webkit-progress-bar {\n",
              "                background: #F44336;\n",
              "            }\n",
              "        </style>\n",
              "      <progress value='21' class='' max='21' style='width:300px; height:20px; vertical-align: middle;'></progress>\n",
              "      100.00% [21/21 00:11<00:00]\n",
              "    </div>\n",
              "    "
            ],
            "text/plain": [
              "<IPython.core.display.HTML object>"
            ]
          },
          "metadata": {
            "tags": []
          }
        },
        {
          "output_type": "stream",
          "text": [
            "INFO:__main__:eval_loss after epoch 4: 0.11474014357441947: \n",
            "INFO:__main__:eval_accuracy after epoch 4: 0.0: \n",
            "INFO:__main__:lr after epoch 4: 4.11764705882353e-06\n",
            "INFO:__main__:train_loss after epoch 4: 0.19020189869971502\n",
            "INFO:__main__:\n",
            "\n",
            "INFO:__main__:Running evaluation\n",
            "INFO:__main__:  Num examples = 670\n",
            "INFO:__main__:  Batch size = 32\n"
          ],
          "name": "stderr"
        },
        {
          "output_type": "display_data",
          "data": {
            "text/html": [
              "\n",
              "    <div>\n",
              "        <style>\n",
              "            /* Turns off some styling */\n",
              "            progress {\n",
              "                /* gets rid of default border in Firefox and Opera. */\n",
              "                border: none;\n",
              "                /* Needs to be in here for Safari polyfill so background images work as expected. */\n",
              "                background-size: auto;\n",
              "            }\n",
              "            .progress-bar-interrupted, .progress-bar-interrupted::-webkit-progress-bar {\n",
              "                background: #F44336;\n",
              "            }\n",
              "        </style>\n",
              "      <progress value='21' class='' max='21' style='width:300px; height:20px; vertical-align: middle;'></progress>\n",
              "      100.00% [21/21 00:11<00:00]\n",
              "    </div>\n",
              "    "
            ],
            "text/plain": [
              "<IPython.core.display.HTML object>"
            ]
          },
          "metadata": {
            "tags": []
          }
        },
        {
          "output_type": "stream",
          "text": [
            "INFO:__main__:eval_loss after epoch 5: 0.09052665842076142: \n",
            "INFO:__main__:eval_accuracy after epoch 5: 0.0: \n",
            "INFO:__main__:lr after epoch 5: 0.0\n",
            "INFO:__main__:train_loss after epoch 5: 0.13460760666500954\n",
            "INFO:__main__:\n",
            "\n"
          ],
          "name": "stderr"
        },
        {
          "output_type": "execute_result",
          "data": {
            "text/plain": [
              "(1050, 0.3041728901224477)"
            ]
          },
          "metadata": {
            "tags": []
          },
          "execution_count": 16
        }
      ]
    },
    {
      "cell_type": "code",
      "metadata": {
        "colab": {
          "base_uri": "https://localhost:8080/"
        },
        "id": "o0arqix7a_iH",
        "outputId": "548bfd2d-08e2-4e9c-98d3-16b884cd10e6"
      },
      "source": [
        "\n",
        "learner.save_model()"
      ],
      "execution_count": null,
      "outputs": [
        {
          "output_type": "stream",
          "text": [
            "INFO:transformers.configuration_utils:Configuration saved in output/model_out/config.json\n",
            "INFO:transformers.modeling_utils:Model weights saved in output/model_out/pytorch_model.bin\n"
          ],
          "name": "stderr"
        }
      ]
    },
    {
      "cell_type": "code",
      "metadata": {
        "colab": {
          "base_uri": "https://localhost:8080/"
        },
        "id": "ki00ZhftjRbr",
        "outputId": "4e841354-3de9-419e-b61c-6540b995e3bf"
      },
      "source": [
        "from fast_bert.prediction import BertClassificationPredictor\n",
        "\n",
        "predictor = BertClassificationPredictor(model_path='output/model_out', \n",
        "                                        label_path='data', multi_label=False)\n"
      ],
      "execution_count": null,
      "outputs": [
        {
          "output_type": "stream",
          "text": [
            "INFO:transformers.configuration_utils:loading configuration file output/model_out/config.json\n",
            "INFO:transformers.configuration_utils:Model config BertConfig {\n",
            "  \"architectures\": [\n",
            "    \"BertForMultiLabelSequenceClassification\"\n",
            "  ],\n",
            "  \"attention_probs_dropout_prob\": 0.1,\n",
            "  \"directionality\": \"bidi\",\n",
            "  \"gradient_checkpointing\": false,\n",
            "  \"hidden_act\": \"gelu\",\n",
            "  \"hidden_dropout_prob\": 0.1,\n",
            "  \"hidden_size\": 768,\n",
            "  \"id2label\": {\n",
            "    \"0\": \"LABEL_0\",\n",
            "    \"1\": \"LABEL_1\",\n",
            "    \"2\": \"LABEL_2\"\n",
            "  },\n",
            "  \"initializer_range\": 0.02,\n",
            "  \"intermediate_size\": 3072,\n",
            "  \"label2id\": {\n",
            "    \"LABEL_0\": 0,\n",
            "    \"LABEL_1\": 1,\n",
            "    \"LABEL_2\": 2\n",
            "  },\n",
            "  \"layer_norm_eps\": 1e-12,\n",
            "  \"max_position_embeddings\": 512,\n",
            "  \"model_type\": \"bert\",\n",
            "  \"num_attention_heads\": 12,\n",
            "  \"num_hidden_layers\": 12,\n",
            "  \"pad_token_id\": 0,\n",
            "  \"pooler_fc_size\": 768,\n",
            "  \"pooler_num_attention_heads\": 12,\n",
            "  \"pooler_num_fc_layers\": 3,\n",
            "  \"pooler_size_per_head\": 128,\n",
            "  \"pooler_type\": \"first_token_transform\",\n",
            "  \"type_vocab_size\": 2,\n",
            "  \"vocab_size\": 64000\n",
            "}\n",
            "\n",
            "INFO:transformers.tokenization_utils_base:Model name 'output/model_out' not found in model shortcut name list (bert-base-uncased, bert-large-uncased, bert-base-cased, bert-large-cased, bert-base-multilingual-uncased, bert-base-multilingual-cased, bert-base-chinese, bert-base-german-cased, bert-large-uncased-whole-word-masking, bert-large-cased-whole-word-masking, bert-large-uncased-whole-word-masking-finetuned-squad, bert-large-cased-whole-word-masking-finetuned-squad, bert-base-cased-finetuned-mrpc, bert-base-german-dbmdz-cased, bert-base-german-dbmdz-uncased, TurkuNLP/bert-base-finnish-cased-v1, TurkuNLP/bert-base-finnish-uncased-v1, wietsedv/bert-base-dutch-cased). Assuming 'output/model_out' is a path, a model identifier, or url to a directory containing tokenizer files.\n",
            "INFO:transformers.tokenization_utils_base:Didn't find file output/model_out/added_tokens.json. We won't load it.\n",
            "INFO:transformers.tokenization_utils_base:Didn't find file output/model_out/tokenizer.json. We won't load it.\n",
            "INFO:transformers.tokenization_utils_base:loading file output/model_out/vocab.txt\n",
            "INFO:transformers.tokenization_utils_base:loading file None\n",
            "INFO:transformers.tokenization_utils_base:loading file output/model_out/special_tokens_map.json\n",
            "INFO:transformers.tokenization_utils_base:loading file output/model_out/tokenizer_config.json\n",
            "INFO:transformers.tokenization_utils_base:loading file None\n",
            "INFO:transformers.configuration_utils:loading configuration file output/model_out/config.json\n",
            "INFO:transformers.configuration_utils:Model config BertConfig {\n",
            "  \"architectures\": [\n",
            "    \"BertForMultiLabelSequenceClassification\"\n",
            "  ],\n",
            "  \"attention_probs_dropout_prob\": 0.1,\n",
            "  \"directionality\": \"bidi\",\n",
            "  \"gradient_checkpointing\": false,\n",
            "  \"hidden_act\": \"gelu\",\n",
            "  \"hidden_dropout_prob\": 0.1,\n",
            "  \"hidden_size\": 768,\n",
            "  \"id2label\": {\n",
            "    \"0\": \"LABEL_0\",\n",
            "    \"1\": \"LABEL_1\",\n",
            "    \"2\": \"LABEL_2\"\n",
            "  },\n",
            "  \"initializer_range\": 0.02,\n",
            "  \"intermediate_size\": 3072,\n",
            "  \"label2id\": {\n",
            "    \"LABEL_0\": 0,\n",
            "    \"LABEL_1\": 1,\n",
            "    \"LABEL_2\": 2\n",
            "  },\n",
            "  \"layer_norm_eps\": 1e-12,\n",
            "  \"max_position_embeddings\": 512,\n",
            "  \"model_type\": \"bert\",\n",
            "  \"num_attention_heads\": 12,\n",
            "  \"num_hidden_layers\": 12,\n",
            "  \"pad_token_id\": 0,\n",
            "  \"pooler_fc_size\": 768,\n",
            "  \"pooler_num_attention_heads\": 12,\n",
            "  \"pooler_num_fc_layers\": 3,\n",
            "  \"pooler_size_per_head\": 128,\n",
            "  \"pooler_type\": \"first_token_transform\",\n",
            "  \"type_vocab_size\": 2,\n",
            "  \"vocab_size\": 64000\n",
            "}\n",
            "\n",
            "INFO:transformers.modeling_utils:loading weights file output/model_out/pytorch_model.bin\n",
            "INFO:transformers.modeling_utils:All model checkpoint weights were used when initializing BertForSequenceClassification.\n",
            "\n",
            "INFO:transformers.modeling_utils:All the weights of BertForSequenceClassification were initialized from the model checkpoint at output/model_out.\n",
            "If your task is similar to the task the model of the ckeckpoint was trained on, you can already use BertForSequenceClassification for predictions without further training.\n"
          ],
          "name": "stderr"
        }
      ]
    },
    {
      "cell_type": "code",
      "metadata": {
        "colab": {
          "base_uri": "https://localhost:8080/"
        },
        "id": "UmTW0k3SkoMX",
        "outputId": "6838120b-58d6-4fa6-a06c-4fae2a39b614"
      },
      "source": [
        "predictor.predict(val_data.text[1]) , val_data.label[1]"
      ],
      "execution_count": null,
      "outputs": [
        {
          "output_type": "stream",
          "text": [
            "INFO:root:Writing example 0 of 1\n",
            "/usr/local/lib/python3.7/dist-packages/pandas/core/frame.py:1490: FutureWarning: Using short name for 'orient' is deprecated. Only the options: ('dict', list, 'series', 'split', 'records', 'index') will be used in a future version. Use one of the above to silence this warning.\n",
            "  FutureWarning,\n"
          ],
          "name": "stderr"
        },
        {
          "output_type": "execute_result",
          "data": {
            "text/plain": [
              "([('positive', 0.9978256821632385),\n",
              "  ('negative', 0.0011917417868971825),\n",
              "  ('neutral', 0.0009825201705098152)],\n",
              " 'positive')"
            ]
          },
          "metadata": {
            "tags": []
          },
          "execution_count": 19
        }
      ]
    },
    {
      "cell_type": "code",
      "metadata": {
        "colab": {
          "base_uri": "https://localhost:8080/"
        },
        "id": "-vi8H_0p9yJJ",
        "outputId": "94b5ab2b-4e90-4ba0-9762-3a6d6e1b5939"
      },
      "source": [
        "pred = []\n",
        "true = []\n",
        "\n",
        "for k in range(len(val_data.text)):\n",
        "  prd = predictor.predict(val_data.text[k])\n",
        "  true.append(label_map[val_data.label[k]])\n",
        "  \n",
        "  tab = [prd[0][1],prd[1][1],prd[2][1]]\n",
        "  tab\n",
        "  max = tab[0]\n",
        "  indice = prd[0][0]\n",
        "  for j in range(1,3):\n",
        "    if tab[j]>max :\n",
        "      max = tab[j]\n",
        "      indice = prd[j][0]\n",
        "  max , indice\n",
        "  \n",
        "  \n",
        "  pred.append(label_map[indice])"
      ],
      "execution_count": null,
      "outputs": [
        {
          "output_type": "stream",
          "text": [
            "INFO:root:Writing example 0 of 1\n",
            "/usr/local/lib/python3.7/dist-packages/pandas/core/frame.py:1490: FutureWarning: Using short name for 'orient' is deprecated. Only the options: ('dict', list, 'series', 'split', 'records', 'index') will be used in a future version. Use one of the above to silence this warning.\n",
            "  FutureWarning,\n",
            "INFO:root:Writing example 0 of 1\n",
            "INFO:root:Writing example 0 of 1\n",
            "INFO:root:Writing example 0 of 1\n",
            "INFO:root:Writing example 0 of 1\n",
            "INFO:root:Writing example 0 of 1\n",
            "INFO:root:Writing example 0 of 1\n",
            "INFO:root:Writing example 0 of 1\n",
            "INFO:root:Writing example 0 of 1\n",
            "INFO:root:Writing example 0 of 1\n",
            "INFO:root:Writing example 0 of 1\n",
            "INFO:root:Writing example 0 of 1\n",
            "INFO:root:Writing example 0 of 1\n",
            "INFO:root:Writing example 0 of 1\n",
            "INFO:root:Writing example 0 of 1\n",
            "INFO:root:Writing example 0 of 1\n",
            "INFO:root:Writing example 0 of 1\n",
            "INFO:root:Writing example 0 of 1\n",
            "INFO:root:Writing example 0 of 1\n",
            "INFO:root:Writing example 0 of 1\n",
            "INFO:root:Writing example 0 of 1\n",
            "INFO:root:Writing example 0 of 1\n",
            "INFO:root:Writing example 0 of 1\n",
            "INFO:root:Writing example 0 of 1\n",
            "INFO:root:Writing example 0 of 1\n",
            "INFO:root:Writing example 0 of 1\n",
            "INFO:root:Writing example 0 of 1\n",
            "INFO:root:Writing example 0 of 1\n",
            "INFO:root:Writing example 0 of 1\n",
            "INFO:root:Writing example 0 of 1\n",
            "INFO:root:Writing example 0 of 1\n",
            "INFO:root:Writing example 0 of 1\n",
            "INFO:root:Writing example 0 of 1\n",
            "INFO:root:Writing example 0 of 1\n",
            "INFO:root:Writing example 0 of 1\n",
            "INFO:root:Writing example 0 of 1\n",
            "INFO:root:Writing example 0 of 1\n",
            "INFO:root:Writing example 0 of 1\n",
            "INFO:root:Writing example 0 of 1\n",
            "INFO:root:Writing example 0 of 1\n",
            "INFO:root:Writing example 0 of 1\n",
            "INFO:root:Writing example 0 of 1\n",
            "INFO:root:Writing example 0 of 1\n",
            "INFO:root:Writing example 0 of 1\n",
            "INFO:root:Writing example 0 of 1\n",
            "INFO:root:Writing example 0 of 1\n",
            "INFO:root:Writing example 0 of 1\n",
            "INFO:root:Writing example 0 of 1\n",
            "INFO:root:Writing example 0 of 1\n",
            "INFO:root:Writing example 0 of 1\n",
            "INFO:root:Writing example 0 of 1\n",
            "INFO:root:Writing example 0 of 1\n",
            "INFO:root:Writing example 0 of 1\n",
            "INFO:root:Writing example 0 of 1\n",
            "INFO:root:Writing example 0 of 1\n",
            "INFO:root:Writing example 0 of 1\n",
            "INFO:root:Writing example 0 of 1\n",
            "INFO:root:Writing example 0 of 1\n",
            "INFO:root:Writing example 0 of 1\n",
            "INFO:root:Writing example 0 of 1\n",
            "INFO:root:Writing example 0 of 1\n",
            "INFO:root:Writing example 0 of 1\n",
            "INFO:root:Writing example 0 of 1\n",
            "INFO:root:Writing example 0 of 1\n",
            "INFO:root:Writing example 0 of 1\n",
            "INFO:root:Writing example 0 of 1\n",
            "INFO:root:Writing example 0 of 1\n",
            "INFO:root:Writing example 0 of 1\n",
            "INFO:root:Writing example 0 of 1\n",
            "INFO:root:Writing example 0 of 1\n",
            "INFO:root:Writing example 0 of 1\n",
            "INFO:root:Writing example 0 of 1\n",
            "INFO:root:Writing example 0 of 1\n",
            "INFO:root:Writing example 0 of 1\n",
            "INFO:root:Writing example 0 of 1\n",
            "INFO:root:Writing example 0 of 1\n",
            "INFO:root:Writing example 0 of 1\n",
            "INFO:root:Writing example 0 of 1\n",
            "INFO:root:Writing example 0 of 1\n",
            "INFO:root:Writing example 0 of 1\n",
            "INFO:root:Writing example 0 of 1\n",
            "INFO:root:Writing example 0 of 1\n",
            "INFO:root:Writing example 0 of 1\n",
            "INFO:root:Writing example 0 of 1\n",
            "INFO:root:Writing example 0 of 1\n",
            "INFO:root:Writing example 0 of 1\n",
            "INFO:root:Writing example 0 of 1\n",
            "INFO:root:Writing example 0 of 1\n",
            "INFO:root:Writing example 0 of 1\n",
            "INFO:root:Writing example 0 of 1\n",
            "INFO:root:Writing example 0 of 1\n",
            "INFO:root:Writing example 0 of 1\n",
            "INFO:root:Writing example 0 of 1\n",
            "INFO:root:Writing example 0 of 1\n",
            "INFO:root:Writing example 0 of 1\n",
            "INFO:root:Writing example 0 of 1\n",
            "INFO:root:Writing example 0 of 1\n",
            "INFO:root:Writing example 0 of 1\n",
            "INFO:root:Writing example 0 of 1\n",
            "INFO:root:Writing example 0 of 1\n",
            "INFO:root:Writing example 0 of 1\n",
            "INFO:root:Writing example 0 of 1\n",
            "INFO:root:Writing example 0 of 1\n",
            "INFO:root:Writing example 0 of 1\n",
            "INFO:root:Writing example 0 of 1\n",
            "INFO:root:Writing example 0 of 1\n",
            "INFO:root:Writing example 0 of 1\n",
            "INFO:root:Writing example 0 of 1\n",
            "INFO:root:Writing example 0 of 1\n",
            "INFO:root:Writing example 0 of 1\n",
            "INFO:root:Writing example 0 of 1\n",
            "INFO:root:Writing example 0 of 1\n",
            "INFO:root:Writing example 0 of 1\n",
            "INFO:root:Writing example 0 of 1\n",
            "INFO:root:Writing example 0 of 1\n",
            "INFO:root:Writing example 0 of 1\n",
            "INFO:root:Writing example 0 of 1\n",
            "INFO:root:Writing example 0 of 1\n",
            "INFO:root:Writing example 0 of 1\n",
            "INFO:root:Writing example 0 of 1\n",
            "INFO:root:Writing example 0 of 1\n",
            "INFO:root:Writing example 0 of 1\n",
            "INFO:root:Writing example 0 of 1\n",
            "INFO:root:Writing example 0 of 1\n",
            "INFO:root:Writing example 0 of 1\n",
            "INFO:root:Writing example 0 of 1\n",
            "INFO:root:Writing example 0 of 1\n",
            "INFO:root:Writing example 0 of 1\n",
            "INFO:root:Writing example 0 of 1\n",
            "INFO:root:Writing example 0 of 1\n",
            "INFO:root:Writing example 0 of 1\n",
            "INFO:root:Writing example 0 of 1\n",
            "INFO:root:Writing example 0 of 1\n",
            "INFO:root:Writing example 0 of 1\n",
            "INFO:root:Writing example 0 of 1\n",
            "INFO:root:Writing example 0 of 1\n",
            "INFO:root:Writing example 0 of 1\n",
            "INFO:root:Writing example 0 of 1\n",
            "INFO:root:Writing example 0 of 1\n",
            "INFO:root:Writing example 0 of 1\n",
            "INFO:root:Writing example 0 of 1\n",
            "INFO:root:Writing example 0 of 1\n",
            "INFO:root:Writing example 0 of 1\n",
            "INFO:root:Writing example 0 of 1\n",
            "INFO:root:Writing example 0 of 1\n",
            "INFO:root:Writing example 0 of 1\n",
            "INFO:root:Writing example 0 of 1\n",
            "INFO:root:Writing example 0 of 1\n",
            "INFO:root:Writing example 0 of 1\n",
            "INFO:root:Writing example 0 of 1\n",
            "INFO:root:Writing example 0 of 1\n",
            "INFO:root:Writing example 0 of 1\n",
            "INFO:root:Writing example 0 of 1\n",
            "INFO:root:Writing example 0 of 1\n",
            "INFO:root:Writing example 0 of 1\n",
            "INFO:root:Writing example 0 of 1\n",
            "INFO:root:Writing example 0 of 1\n",
            "INFO:root:Writing example 0 of 1\n",
            "INFO:root:Writing example 0 of 1\n",
            "INFO:root:Writing example 0 of 1\n",
            "INFO:root:Writing example 0 of 1\n",
            "INFO:root:Writing example 0 of 1\n",
            "INFO:root:Writing example 0 of 1\n",
            "INFO:root:Writing example 0 of 1\n",
            "INFO:root:Writing example 0 of 1\n",
            "INFO:root:Writing example 0 of 1\n",
            "INFO:root:Writing example 0 of 1\n",
            "INFO:root:Writing example 0 of 1\n",
            "INFO:root:Writing example 0 of 1\n",
            "INFO:root:Writing example 0 of 1\n",
            "INFO:root:Writing example 0 of 1\n",
            "INFO:root:Writing example 0 of 1\n",
            "INFO:root:Writing example 0 of 1\n",
            "INFO:root:Writing example 0 of 1\n",
            "INFO:root:Writing example 0 of 1\n",
            "INFO:root:Writing example 0 of 1\n",
            "INFO:root:Writing example 0 of 1\n",
            "INFO:root:Writing example 0 of 1\n",
            "INFO:root:Writing example 0 of 1\n",
            "INFO:root:Writing example 0 of 1\n",
            "INFO:root:Writing example 0 of 1\n",
            "INFO:root:Writing example 0 of 1\n",
            "INFO:root:Writing example 0 of 1\n",
            "INFO:root:Writing example 0 of 1\n",
            "INFO:root:Writing example 0 of 1\n",
            "INFO:root:Writing example 0 of 1\n",
            "INFO:root:Writing example 0 of 1\n",
            "INFO:root:Writing example 0 of 1\n",
            "INFO:root:Writing example 0 of 1\n",
            "INFO:root:Writing example 0 of 1\n",
            "INFO:root:Writing example 0 of 1\n",
            "INFO:root:Writing example 0 of 1\n",
            "INFO:root:Writing example 0 of 1\n",
            "INFO:root:Writing example 0 of 1\n",
            "INFO:root:Writing example 0 of 1\n",
            "INFO:root:Writing example 0 of 1\n",
            "INFO:root:Writing example 0 of 1\n",
            "INFO:root:Writing example 0 of 1\n",
            "INFO:root:Writing example 0 of 1\n",
            "INFO:root:Writing example 0 of 1\n",
            "INFO:root:Writing example 0 of 1\n",
            "INFO:root:Writing example 0 of 1\n",
            "INFO:root:Writing example 0 of 1\n",
            "INFO:root:Writing example 0 of 1\n",
            "INFO:root:Writing example 0 of 1\n",
            "INFO:root:Writing example 0 of 1\n",
            "INFO:root:Writing example 0 of 1\n",
            "INFO:root:Writing example 0 of 1\n",
            "INFO:root:Writing example 0 of 1\n",
            "INFO:root:Writing example 0 of 1\n",
            "INFO:root:Writing example 0 of 1\n",
            "INFO:root:Writing example 0 of 1\n",
            "INFO:root:Writing example 0 of 1\n",
            "INFO:root:Writing example 0 of 1\n",
            "INFO:root:Writing example 0 of 1\n",
            "INFO:root:Writing example 0 of 1\n",
            "INFO:root:Writing example 0 of 1\n",
            "INFO:root:Writing example 0 of 1\n",
            "INFO:root:Writing example 0 of 1\n",
            "INFO:root:Writing example 0 of 1\n",
            "INFO:root:Writing example 0 of 1\n",
            "INFO:root:Writing example 0 of 1\n",
            "INFO:root:Writing example 0 of 1\n",
            "INFO:root:Writing example 0 of 1\n",
            "INFO:root:Writing example 0 of 1\n",
            "INFO:root:Writing example 0 of 1\n",
            "INFO:root:Writing example 0 of 1\n",
            "INFO:root:Writing example 0 of 1\n",
            "INFO:root:Writing example 0 of 1\n",
            "INFO:root:Writing example 0 of 1\n",
            "INFO:root:Writing example 0 of 1\n",
            "INFO:root:Writing example 0 of 1\n",
            "INFO:root:Writing example 0 of 1\n",
            "INFO:root:Writing example 0 of 1\n",
            "INFO:root:Writing example 0 of 1\n",
            "INFO:root:Writing example 0 of 1\n",
            "INFO:root:Writing example 0 of 1\n",
            "INFO:root:Writing example 0 of 1\n",
            "INFO:root:Writing example 0 of 1\n",
            "INFO:root:Writing example 0 of 1\n",
            "INFO:root:Writing example 0 of 1\n",
            "INFO:root:Writing example 0 of 1\n",
            "INFO:root:Writing example 0 of 1\n",
            "INFO:root:Writing example 0 of 1\n",
            "INFO:root:Writing example 0 of 1\n",
            "INFO:root:Writing example 0 of 1\n",
            "INFO:root:Writing example 0 of 1\n",
            "INFO:root:Writing example 0 of 1\n",
            "INFO:root:Writing example 0 of 1\n",
            "INFO:root:Writing example 0 of 1\n",
            "INFO:root:Writing example 0 of 1\n",
            "INFO:root:Writing example 0 of 1\n",
            "INFO:root:Writing example 0 of 1\n",
            "INFO:root:Writing example 0 of 1\n",
            "INFO:root:Writing example 0 of 1\n",
            "INFO:root:Writing example 0 of 1\n",
            "INFO:root:Writing example 0 of 1\n",
            "INFO:root:Writing example 0 of 1\n",
            "INFO:root:Writing example 0 of 1\n",
            "INFO:root:Writing example 0 of 1\n",
            "INFO:root:Writing example 0 of 1\n",
            "INFO:root:Writing example 0 of 1\n",
            "INFO:root:Writing example 0 of 1\n",
            "INFO:root:Writing example 0 of 1\n",
            "INFO:root:Writing example 0 of 1\n",
            "INFO:root:Writing example 0 of 1\n",
            "INFO:root:Writing example 0 of 1\n",
            "INFO:root:Writing example 0 of 1\n",
            "INFO:root:Writing example 0 of 1\n",
            "INFO:root:Writing example 0 of 1\n",
            "INFO:root:Writing example 0 of 1\n",
            "INFO:root:Writing example 0 of 1\n",
            "INFO:root:Writing example 0 of 1\n",
            "INFO:root:Writing example 0 of 1\n",
            "INFO:root:Writing example 0 of 1\n",
            "INFO:root:Writing example 0 of 1\n",
            "INFO:root:Writing example 0 of 1\n",
            "INFO:root:Writing example 0 of 1\n",
            "INFO:root:Writing example 0 of 1\n",
            "INFO:root:Writing example 0 of 1\n",
            "INFO:root:Writing example 0 of 1\n",
            "INFO:root:Writing example 0 of 1\n",
            "INFO:root:Writing example 0 of 1\n",
            "INFO:root:Writing example 0 of 1\n",
            "INFO:root:Writing example 0 of 1\n",
            "INFO:root:Writing example 0 of 1\n",
            "INFO:root:Writing example 0 of 1\n",
            "INFO:root:Writing example 0 of 1\n",
            "INFO:root:Writing example 0 of 1\n",
            "INFO:root:Writing example 0 of 1\n",
            "INFO:root:Writing example 0 of 1\n",
            "INFO:root:Writing example 0 of 1\n",
            "INFO:root:Writing example 0 of 1\n",
            "INFO:root:Writing example 0 of 1\n",
            "INFO:root:Writing example 0 of 1\n",
            "INFO:root:Writing example 0 of 1\n",
            "INFO:root:Writing example 0 of 1\n",
            "INFO:root:Writing example 0 of 1\n",
            "INFO:root:Writing example 0 of 1\n",
            "INFO:root:Writing example 0 of 1\n",
            "INFO:root:Writing example 0 of 1\n",
            "INFO:root:Writing example 0 of 1\n",
            "INFO:root:Writing example 0 of 1\n",
            "INFO:root:Writing example 0 of 1\n",
            "INFO:root:Writing example 0 of 1\n",
            "INFO:root:Writing example 0 of 1\n",
            "INFO:root:Writing example 0 of 1\n",
            "INFO:root:Writing example 0 of 1\n",
            "INFO:root:Writing example 0 of 1\n",
            "INFO:root:Writing example 0 of 1\n",
            "INFO:root:Writing example 0 of 1\n",
            "INFO:root:Writing example 0 of 1\n",
            "INFO:root:Writing example 0 of 1\n",
            "INFO:root:Writing example 0 of 1\n",
            "INFO:root:Writing example 0 of 1\n",
            "INFO:root:Writing example 0 of 1\n",
            "INFO:root:Writing example 0 of 1\n",
            "INFO:root:Writing example 0 of 1\n",
            "INFO:root:Writing example 0 of 1\n",
            "INFO:root:Writing example 0 of 1\n",
            "INFO:root:Writing example 0 of 1\n",
            "INFO:root:Writing example 0 of 1\n",
            "INFO:root:Writing example 0 of 1\n",
            "INFO:root:Writing example 0 of 1\n",
            "INFO:root:Writing example 0 of 1\n",
            "INFO:root:Writing example 0 of 1\n",
            "INFO:root:Writing example 0 of 1\n",
            "INFO:root:Writing example 0 of 1\n",
            "INFO:root:Writing example 0 of 1\n",
            "INFO:root:Writing example 0 of 1\n",
            "INFO:root:Writing example 0 of 1\n",
            "INFO:root:Writing example 0 of 1\n",
            "INFO:root:Writing example 0 of 1\n",
            "INFO:root:Writing example 0 of 1\n",
            "INFO:root:Writing example 0 of 1\n",
            "INFO:root:Writing example 0 of 1\n",
            "INFO:root:Writing example 0 of 1\n",
            "INFO:root:Writing example 0 of 1\n",
            "INFO:root:Writing example 0 of 1\n",
            "INFO:root:Writing example 0 of 1\n",
            "INFO:root:Writing example 0 of 1\n",
            "INFO:root:Writing example 0 of 1\n",
            "INFO:root:Writing example 0 of 1\n",
            "INFO:root:Writing example 0 of 1\n",
            "INFO:root:Writing example 0 of 1\n",
            "INFO:root:Writing example 0 of 1\n",
            "INFO:root:Writing example 0 of 1\n",
            "INFO:root:Writing example 0 of 1\n",
            "INFO:root:Writing example 0 of 1\n",
            "INFO:root:Writing example 0 of 1\n",
            "INFO:root:Writing example 0 of 1\n",
            "INFO:root:Writing example 0 of 1\n",
            "INFO:root:Writing example 0 of 1\n",
            "INFO:root:Writing example 0 of 1\n",
            "INFO:root:Writing example 0 of 1\n",
            "INFO:root:Writing example 0 of 1\n",
            "INFO:root:Writing example 0 of 1\n",
            "INFO:root:Writing example 0 of 1\n",
            "INFO:root:Writing example 0 of 1\n",
            "INFO:root:Writing example 0 of 1\n",
            "INFO:root:Writing example 0 of 1\n",
            "INFO:root:Writing example 0 of 1\n",
            "INFO:root:Writing example 0 of 1\n",
            "INFO:root:Writing example 0 of 1\n",
            "INFO:root:Writing example 0 of 1\n",
            "INFO:root:Writing example 0 of 1\n",
            "INFO:root:Writing example 0 of 1\n",
            "INFO:root:Writing example 0 of 1\n",
            "INFO:root:Writing example 0 of 1\n",
            "INFO:root:Writing example 0 of 1\n",
            "INFO:root:Writing example 0 of 1\n",
            "INFO:root:Writing example 0 of 1\n",
            "INFO:root:Writing example 0 of 1\n",
            "INFO:root:Writing example 0 of 1\n",
            "INFO:root:Writing example 0 of 1\n",
            "INFO:root:Writing example 0 of 1\n",
            "INFO:root:Writing example 0 of 1\n",
            "INFO:root:Writing example 0 of 1\n",
            "INFO:root:Writing example 0 of 1\n",
            "INFO:root:Writing example 0 of 1\n",
            "INFO:root:Writing example 0 of 1\n",
            "INFO:root:Writing example 0 of 1\n",
            "INFO:root:Writing example 0 of 1\n",
            "INFO:root:Writing example 0 of 1\n",
            "INFO:root:Writing example 0 of 1\n",
            "INFO:root:Writing example 0 of 1\n",
            "INFO:root:Writing example 0 of 1\n",
            "INFO:root:Writing example 0 of 1\n",
            "INFO:root:Writing example 0 of 1\n",
            "INFO:root:Writing example 0 of 1\n",
            "INFO:root:Writing example 0 of 1\n",
            "INFO:root:Writing example 0 of 1\n",
            "INFO:root:Writing example 0 of 1\n",
            "INFO:root:Writing example 0 of 1\n",
            "INFO:root:Writing example 0 of 1\n",
            "INFO:root:Writing example 0 of 1\n",
            "INFO:root:Writing example 0 of 1\n",
            "INFO:root:Writing example 0 of 1\n",
            "INFO:root:Writing example 0 of 1\n",
            "INFO:root:Writing example 0 of 1\n",
            "INFO:root:Writing example 0 of 1\n",
            "INFO:root:Writing example 0 of 1\n",
            "INFO:root:Writing example 0 of 1\n",
            "INFO:root:Writing example 0 of 1\n",
            "INFO:root:Writing example 0 of 1\n",
            "INFO:root:Writing example 0 of 1\n",
            "INFO:root:Writing example 0 of 1\n",
            "INFO:root:Writing example 0 of 1\n",
            "INFO:root:Writing example 0 of 1\n",
            "INFO:root:Writing example 0 of 1\n",
            "INFO:root:Writing example 0 of 1\n",
            "INFO:root:Writing example 0 of 1\n",
            "INFO:root:Writing example 0 of 1\n",
            "INFO:root:Writing example 0 of 1\n",
            "INFO:root:Writing example 0 of 1\n",
            "INFO:root:Writing example 0 of 1\n",
            "INFO:root:Writing example 0 of 1\n",
            "INFO:root:Writing example 0 of 1\n",
            "INFO:root:Writing example 0 of 1\n",
            "INFO:root:Writing example 0 of 1\n",
            "INFO:root:Writing example 0 of 1\n",
            "INFO:root:Writing example 0 of 1\n",
            "INFO:root:Writing example 0 of 1\n",
            "INFO:root:Writing example 0 of 1\n",
            "INFO:root:Writing example 0 of 1\n",
            "INFO:root:Writing example 0 of 1\n",
            "INFO:root:Writing example 0 of 1\n",
            "INFO:root:Writing example 0 of 1\n",
            "INFO:root:Writing example 0 of 1\n",
            "INFO:root:Writing example 0 of 1\n",
            "INFO:root:Writing example 0 of 1\n",
            "INFO:root:Writing example 0 of 1\n",
            "INFO:root:Writing example 0 of 1\n",
            "INFO:root:Writing example 0 of 1\n",
            "INFO:root:Writing example 0 of 1\n",
            "INFO:root:Writing example 0 of 1\n",
            "INFO:root:Writing example 0 of 1\n",
            "INFO:root:Writing example 0 of 1\n",
            "INFO:root:Writing example 0 of 1\n",
            "INFO:root:Writing example 0 of 1\n",
            "INFO:root:Writing example 0 of 1\n",
            "INFO:root:Writing example 0 of 1\n",
            "INFO:root:Writing example 0 of 1\n",
            "INFO:root:Writing example 0 of 1\n",
            "INFO:root:Writing example 0 of 1\n",
            "INFO:root:Writing example 0 of 1\n",
            "INFO:root:Writing example 0 of 1\n",
            "INFO:root:Writing example 0 of 1\n",
            "INFO:root:Writing example 0 of 1\n",
            "INFO:root:Writing example 0 of 1\n",
            "INFO:root:Writing example 0 of 1\n",
            "INFO:root:Writing example 0 of 1\n",
            "INFO:root:Writing example 0 of 1\n",
            "INFO:root:Writing example 0 of 1\n",
            "INFO:root:Writing example 0 of 1\n",
            "INFO:root:Writing example 0 of 1\n",
            "INFO:root:Writing example 0 of 1\n",
            "INFO:root:Writing example 0 of 1\n",
            "INFO:root:Writing example 0 of 1\n",
            "INFO:root:Writing example 0 of 1\n",
            "INFO:root:Writing example 0 of 1\n",
            "INFO:root:Writing example 0 of 1\n",
            "INFO:root:Writing example 0 of 1\n",
            "INFO:root:Writing example 0 of 1\n",
            "INFO:root:Writing example 0 of 1\n",
            "INFO:root:Writing example 0 of 1\n",
            "INFO:root:Writing example 0 of 1\n",
            "INFO:root:Writing example 0 of 1\n",
            "INFO:root:Writing example 0 of 1\n",
            "INFO:root:Writing example 0 of 1\n",
            "INFO:root:Writing example 0 of 1\n",
            "INFO:root:Writing example 0 of 1\n",
            "INFO:root:Writing example 0 of 1\n",
            "INFO:root:Writing example 0 of 1\n",
            "INFO:root:Writing example 0 of 1\n",
            "INFO:root:Writing example 0 of 1\n",
            "INFO:root:Writing example 0 of 1\n",
            "INFO:root:Writing example 0 of 1\n",
            "INFO:root:Writing example 0 of 1\n",
            "INFO:root:Writing example 0 of 1\n",
            "INFO:root:Writing example 0 of 1\n",
            "INFO:root:Writing example 0 of 1\n",
            "INFO:root:Writing example 0 of 1\n",
            "INFO:root:Writing example 0 of 1\n",
            "INFO:root:Writing example 0 of 1\n",
            "INFO:root:Writing example 0 of 1\n",
            "INFO:root:Writing example 0 of 1\n",
            "INFO:root:Writing example 0 of 1\n",
            "INFO:root:Writing example 0 of 1\n",
            "INFO:root:Writing example 0 of 1\n",
            "INFO:root:Writing example 0 of 1\n",
            "INFO:root:Writing example 0 of 1\n",
            "INFO:root:Writing example 0 of 1\n",
            "INFO:root:Writing example 0 of 1\n",
            "INFO:root:Writing example 0 of 1\n",
            "INFO:root:Writing example 0 of 1\n",
            "INFO:root:Writing example 0 of 1\n",
            "INFO:root:Writing example 0 of 1\n",
            "INFO:root:Writing example 0 of 1\n",
            "INFO:root:Writing example 0 of 1\n",
            "INFO:root:Writing example 0 of 1\n",
            "INFO:root:Writing example 0 of 1\n",
            "INFO:root:Writing example 0 of 1\n",
            "INFO:root:Writing example 0 of 1\n",
            "INFO:root:Writing example 0 of 1\n",
            "INFO:root:Writing example 0 of 1\n",
            "INFO:root:Writing example 0 of 1\n",
            "INFO:root:Writing example 0 of 1\n",
            "INFO:root:Writing example 0 of 1\n",
            "INFO:root:Writing example 0 of 1\n",
            "INFO:root:Writing example 0 of 1\n",
            "INFO:root:Writing example 0 of 1\n",
            "INFO:root:Writing example 0 of 1\n",
            "INFO:root:Writing example 0 of 1\n",
            "INFO:root:Writing example 0 of 1\n",
            "INFO:root:Writing example 0 of 1\n",
            "INFO:root:Writing example 0 of 1\n",
            "INFO:root:Writing example 0 of 1\n",
            "INFO:root:Writing example 0 of 1\n",
            "INFO:root:Writing example 0 of 1\n",
            "INFO:root:Writing example 0 of 1\n",
            "INFO:root:Writing example 0 of 1\n",
            "INFO:root:Writing example 0 of 1\n",
            "INFO:root:Writing example 0 of 1\n",
            "INFO:root:Writing example 0 of 1\n",
            "INFO:root:Writing example 0 of 1\n",
            "INFO:root:Writing example 0 of 1\n",
            "INFO:root:Writing example 0 of 1\n",
            "INFO:root:Writing example 0 of 1\n",
            "INFO:root:Writing example 0 of 1\n",
            "INFO:root:Writing example 0 of 1\n",
            "INFO:root:Writing example 0 of 1\n",
            "INFO:root:Writing example 0 of 1\n",
            "INFO:root:Writing example 0 of 1\n",
            "INFO:root:Writing example 0 of 1\n",
            "INFO:root:Writing example 0 of 1\n",
            "INFO:root:Writing example 0 of 1\n",
            "INFO:root:Writing example 0 of 1\n",
            "INFO:root:Writing example 0 of 1\n",
            "INFO:root:Writing example 0 of 1\n",
            "INFO:root:Writing example 0 of 1\n",
            "INFO:root:Writing example 0 of 1\n",
            "INFO:root:Writing example 0 of 1\n",
            "INFO:root:Writing example 0 of 1\n",
            "INFO:root:Writing example 0 of 1\n",
            "INFO:root:Writing example 0 of 1\n",
            "INFO:root:Writing example 0 of 1\n",
            "INFO:root:Writing example 0 of 1\n",
            "INFO:root:Writing example 0 of 1\n",
            "INFO:root:Writing example 0 of 1\n",
            "INFO:root:Writing example 0 of 1\n",
            "INFO:root:Writing example 0 of 1\n",
            "INFO:root:Writing example 0 of 1\n",
            "INFO:root:Writing example 0 of 1\n",
            "INFO:root:Writing example 0 of 1\n",
            "INFO:root:Writing example 0 of 1\n",
            "INFO:root:Writing example 0 of 1\n",
            "INFO:root:Writing example 0 of 1\n",
            "INFO:root:Writing example 0 of 1\n",
            "INFO:root:Writing example 0 of 1\n",
            "INFO:root:Writing example 0 of 1\n",
            "INFO:root:Writing example 0 of 1\n",
            "INFO:root:Writing example 0 of 1\n",
            "INFO:root:Writing example 0 of 1\n",
            "INFO:root:Writing example 0 of 1\n",
            "INFO:root:Writing example 0 of 1\n",
            "INFO:root:Writing example 0 of 1\n",
            "INFO:root:Writing example 0 of 1\n",
            "INFO:root:Writing example 0 of 1\n",
            "INFO:root:Writing example 0 of 1\n",
            "INFO:root:Writing example 0 of 1\n",
            "INFO:root:Writing example 0 of 1\n",
            "INFO:root:Writing example 0 of 1\n",
            "INFO:root:Writing example 0 of 1\n",
            "INFO:root:Writing example 0 of 1\n",
            "INFO:root:Writing example 0 of 1\n",
            "INFO:root:Writing example 0 of 1\n",
            "INFO:root:Writing example 0 of 1\n",
            "INFO:root:Writing example 0 of 1\n",
            "INFO:root:Writing example 0 of 1\n",
            "INFO:root:Writing example 0 of 1\n",
            "INFO:root:Writing example 0 of 1\n",
            "INFO:root:Writing example 0 of 1\n",
            "INFO:root:Writing example 0 of 1\n",
            "INFO:root:Writing example 0 of 1\n",
            "INFO:root:Writing example 0 of 1\n",
            "INFO:root:Writing example 0 of 1\n",
            "INFO:root:Writing example 0 of 1\n",
            "INFO:root:Writing example 0 of 1\n",
            "INFO:root:Writing example 0 of 1\n",
            "INFO:root:Writing example 0 of 1\n",
            "INFO:root:Writing example 0 of 1\n",
            "INFO:root:Writing example 0 of 1\n",
            "INFO:root:Writing example 0 of 1\n",
            "INFO:root:Writing example 0 of 1\n",
            "INFO:root:Writing example 0 of 1\n",
            "INFO:root:Writing example 0 of 1\n",
            "INFO:root:Writing example 0 of 1\n",
            "INFO:root:Writing example 0 of 1\n",
            "INFO:root:Writing example 0 of 1\n",
            "INFO:root:Writing example 0 of 1\n",
            "INFO:root:Writing example 0 of 1\n",
            "INFO:root:Writing example 0 of 1\n",
            "INFO:root:Writing example 0 of 1\n",
            "INFO:root:Writing example 0 of 1\n",
            "INFO:root:Writing example 0 of 1\n",
            "INFO:root:Writing example 0 of 1\n",
            "INFO:root:Writing example 0 of 1\n",
            "INFO:root:Writing example 0 of 1\n",
            "INFO:root:Writing example 0 of 1\n",
            "INFO:root:Writing example 0 of 1\n",
            "INFO:root:Writing example 0 of 1\n",
            "INFO:root:Writing example 0 of 1\n",
            "INFO:root:Writing example 0 of 1\n",
            "INFO:root:Writing example 0 of 1\n",
            "INFO:root:Writing example 0 of 1\n",
            "INFO:root:Writing example 0 of 1\n",
            "INFO:root:Writing example 0 of 1\n",
            "INFO:root:Writing example 0 of 1\n",
            "INFO:root:Writing example 0 of 1\n",
            "INFO:root:Writing example 0 of 1\n",
            "INFO:root:Writing example 0 of 1\n",
            "INFO:root:Writing example 0 of 1\n",
            "INFO:root:Writing example 0 of 1\n",
            "INFO:root:Writing example 0 of 1\n",
            "INFO:root:Writing example 0 of 1\n",
            "INFO:root:Writing example 0 of 1\n",
            "INFO:root:Writing example 0 of 1\n",
            "INFO:root:Writing example 0 of 1\n",
            "INFO:root:Writing example 0 of 1\n",
            "INFO:root:Writing example 0 of 1\n",
            "INFO:root:Writing example 0 of 1\n",
            "INFO:root:Writing example 0 of 1\n",
            "INFO:root:Writing example 0 of 1\n",
            "INFO:root:Writing example 0 of 1\n",
            "INFO:root:Writing example 0 of 1\n",
            "INFO:root:Writing example 0 of 1\n",
            "INFO:root:Writing example 0 of 1\n",
            "INFO:root:Writing example 0 of 1\n",
            "INFO:root:Writing example 0 of 1\n",
            "INFO:root:Writing example 0 of 1\n",
            "INFO:root:Writing example 0 of 1\n",
            "INFO:root:Writing example 0 of 1\n",
            "INFO:root:Writing example 0 of 1\n",
            "INFO:root:Writing example 0 of 1\n",
            "INFO:root:Writing example 0 of 1\n",
            "INFO:root:Writing example 0 of 1\n",
            "INFO:root:Writing example 0 of 1\n",
            "INFO:root:Writing example 0 of 1\n",
            "INFO:root:Writing example 0 of 1\n",
            "INFO:root:Writing example 0 of 1\n",
            "INFO:root:Writing example 0 of 1\n",
            "INFO:root:Writing example 0 of 1\n",
            "INFO:root:Writing example 0 of 1\n",
            "INFO:root:Writing example 0 of 1\n",
            "INFO:root:Writing example 0 of 1\n",
            "INFO:root:Writing example 0 of 1\n",
            "INFO:root:Writing example 0 of 1\n",
            "INFO:root:Writing example 0 of 1\n",
            "INFO:root:Writing example 0 of 1\n",
            "INFO:root:Writing example 0 of 1\n",
            "INFO:root:Writing example 0 of 1\n",
            "INFO:root:Writing example 0 of 1\n",
            "INFO:root:Writing example 0 of 1\n",
            "INFO:root:Writing example 0 of 1\n",
            "INFO:root:Writing example 0 of 1\n",
            "INFO:root:Writing example 0 of 1\n",
            "INFO:root:Writing example 0 of 1\n",
            "INFO:root:Writing example 0 of 1\n",
            "INFO:root:Writing example 0 of 1\n"
          ],
          "name": "stderr"
        }
      ]
    },
    {
      "cell_type": "code",
      "metadata": {
        "id": "cFsGHrww-5Ig",
        "colab": {
          "base_uri": "https://localhost:8080/",
          "height": 306
        },
        "outputId": "1c0ad785-1bc9-4d56-f103-1fdb73c8949d"
      },
      "source": [
        "val_data['pred arab'] = pred\n",
        "val_data.head()"
      ],
      "execution_count": null,
      "outputs": [
        {
          "output_type": "execute_result",
          "data": {
            "text/html": [
              "<div>\n",
              "<style scoped>\n",
              "    .dataframe tbody tr th:only-of-type {\n",
              "        vertical-align: middle;\n",
              "    }\n",
              "\n",
              "    .dataframe tbody tr th {\n",
              "        vertical-align: top;\n",
              "    }\n",
              "\n",
              "    .dataframe thead th {\n",
              "        text-align: right;\n",
              "    }\n",
              "</style>\n",
              "<table border=\"1\" class=\"dataframe\">\n",
              "  <thead>\n",
              "    <tr style=\"text-align: right;\">\n",
              "      <th></th>\n",
              "      <th>text</th>\n",
              "      <th>label</th>\n",
              "      <th>text tok</th>\n",
              "      <th>pred arab</th>\n",
              "      <th>pred lexicon</th>\n",
              "      <th>pred_lexicon_int</th>\n",
              "      <th>label_int</th>\n",
              "    </tr>\n",
              "  </thead>\n",
              "  <tbody>\n",
              "    <tr>\n",
              "      <th>0</th>\n",
              "      <td>\" أخر صيح+ة من حقائب ال+يد من ف+ندي و+غوتشي :/...</td>\n",
              "      <td>neutral</td>\n",
              "      <td>[\", أخر, صيح, +, ة, من, حقائب, ال, +, يد, من, ...</td>\n",
              "      <td>0</td>\n",
              "      <td>neutral</td>\n",
              "      <td>0</td>\n",
              "      <td>0</td>\n",
              "    </tr>\n",
              "    <tr>\n",
              "      <th>1</th>\n",
              "      <td>\" تتشرف باريغاليري ب+دعو+ت+كم ل+حضور و+مقابل+ة...</td>\n",
              "      <td>positive</td>\n",
              "      <td>[\", تتش, ##رف, باري, ##غالي, ##ري, ب, +, دعو, ...</td>\n",
              "      <td>1</td>\n",
              "      <td>neutral</td>\n",
              "      <td>0</td>\n",
              "      <td>1</td>\n",
              "    </tr>\n",
              "    <tr>\n",
              "      <th>2</th>\n",
              "      <td>\" : ستايلبنطال نامج+ون ال+جينز ل+صور كان ب+سعر...</td>\n",
              "      <td>neutral</td>\n",
              "      <td>[\", :, ستايل, ##بن, ##طال, نام, ##ج, +, و, ##ن...</td>\n",
              "      <td>0</td>\n",
              "      <td>neutral</td>\n",
              "      <td>0</td>\n",
              "      <td>0</td>\n",
              "    </tr>\n",
              "    <tr>\n",
              "      <th>3</th>\n",
              "      <td>\" : كريس في ازياء كريس جميع+ها من بربري من ال+...</td>\n",
              "      <td>neutral</td>\n",
              "      <td>[\", :, كريس, في, ازيا, ##ء, كريس, جميع, +, ه, ...</td>\n",
              "      <td>0</td>\n",
              "      <td>neutral</td>\n",
              "      <td>0</td>\n",
              "      <td>0</td>\n",
              "    </tr>\n",
              "    <tr>\n",
              "      <th>4</th>\n",
              "      <td>\" تعرف+ي على حذاء غوتشي الذي يجمع بين ال+كعب ا...</td>\n",
              "      <td>neutral</td>\n",
              "      <td>[\", تعرف, +, ي, على, حذاء, غوتشي, الذي, يجمع, ...</td>\n",
              "      <td>0</td>\n",
              "      <td>neutral</td>\n",
              "      <td>0</td>\n",
              "      <td>0</td>\n",
              "    </tr>\n",
              "  </tbody>\n",
              "</table>\n",
              "</div>"
            ],
            "text/plain": [
              "                                                text  ... label_int\n",
              "0  \" أخر صيح+ة من حقائب ال+يد من ف+ندي و+غوتشي :/...  ...         0\n",
              "1  \" تتشرف باريغاليري ب+دعو+ت+كم ل+حضور و+مقابل+ة...  ...         1\n",
              "2  \" : ستايلبنطال نامج+ون ال+جينز ل+صور كان ب+سعر...  ...         0\n",
              "3  \" : كريس في ازياء كريس جميع+ها من بربري من ال+...  ...         0\n",
              "4  \" تعرف+ي على حذاء غوتشي الذي يجمع بين ال+كعب ا...  ...         0\n",
              "\n",
              "[5 rows x 7 columns]"
            ]
          },
          "metadata": {
            "tags": []
          },
          "execution_count": 77
        }
      ]
    },
    {
      "cell_type": "code",
      "metadata": {
        "colab": {
          "base_uri": "https://localhost:8080/"
        },
        "id": "6_N8wDqyVda7",
        "outputId": "0a408625-5788-4855-8bcf-f013ef1e6a7d"
      },
      "source": [
        "from transformers import AutoTokenizer\n",
        "\n",
        "tokenizer = AutoTokenizer.from_pretrained('aubmindlab/bert-base-arabert')\n"
      ],
      "execution_count": null,
      "outputs": [
        {
          "output_type": "stream",
          "text": [
            "INFO:transformers.configuration_utils:loading configuration file https://s3.amazonaws.com/models.huggingface.co/bert/aubmindlab/bert-base-arabert/config.json from cache at /root/.cache/torch/transformers/91c3e98e149f6e88215bffd705e4ef9bd8a355f4c317973e4f3868c6f93fa24a.87c61215f57298a5ff1f7680910adeb70154f00bf4e7a0fe7d5ab21ee115c7cf\n",
            "INFO:transformers.configuration_utils:Model config BertConfig {\n",
            "  \"architectures\": [\n",
            "    \"BertModel\"\n",
            "  ],\n",
            "  \"attention_probs_dropout_prob\": 0.1,\n",
            "  \"directionality\": \"bidi\",\n",
            "  \"gradient_checkpointing\": false,\n",
            "  \"hidden_act\": \"gelu\",\n",
            "  \"hidden_dropout_prob\": 0.1,\n",
            "  \"hidden_size\": 768,\n",
            "  \"initializer_range\": 0.02,\n",
            "  \"intermediate_size\": 3072,\n",
            "  \"layer_norm_eps\": 1e-12,\n",
            "  \"max_position_embeddings\": 512,\n",
            "  \"model_type\": \"bert\",\n",
            "  \"num_attention_heads\": 12,\n",
            "  \"num_hidden_layers\": 12,\n",
            "  \"pad_token_id\": 0,\n",
            "  \"pooler_fc_size\": 768,\n",
            "  \"pooler_num_attention_heads\": 12,\n",
            "  \"pooler_num_fc_layers\": 3,\n",
            "  \"pooler_size_per_head\": 128,\n",
            "  \"pooler_type\": \"first_token_transform\",\n",
            "  \"type_vocab_size\": 2,\n",
            "  \"vocab_size\": 64000\n",
            "}\n",
            "\n",
            "INFO:transformers.tokenization_utils_base:Model name 'aubmindlab/bert-base-arabert' not found in model shortcut name list (bert-base-uncased, bert-large-uncased, bert-base-cased, bert-large-cased, bert-base-multilingual-uncased, bert-base-multilingual-cased, bert-base-chinese, bert-base-german-cased, bert-large-uncased-whole-word-masking, bert-large-cased-whole-word-masking, bert-large-uncased-whole-word-masking-finetuned-squad, bert-large-cased-whole-word-masking-finetuned-squad, bert-base-cased-finetuned-mrpc, bert-base-german-dbmdz-cased, bert-base-german-dbmdz-uncased, TurkuNLP/bert-base-finnish-cased-v1, TurkuNLP/bert-base-finnish-uncased-v1, wietsedv/bert-base-dutch-cased). Assuming 'aubmindlab/bert-base-arabert' is a path, a model identifier, or url to a directory containing tokenizer files.\n",
            "INFO:transformers.tokenization_utils_base:loading file https://s3.amazonaws.com/models.huggingface.co/bert/aubmindlab/bert-base-arabert/vocab.txt from cache at /root/.cache/torch/transformers/e00d70bd70387a7cefb7b3f960c2b4bff22c254c680dabca3c09336b98c42396.a17ce51bb78b7fa46a5b28baee670bca2f9bf6bc93608fc37438db58382e5bc0\n",
            "INFO:transformers.tokenization_utils_base:loading file https://s3.amazonaws.com/models.huggingface.co/bert/aubmindlab/bert-base-arabert/added_tokens.json from cache at None\n",
            "INFO:transformers.tokenization_utils_base:loading file https://s3.amazonaws.com/models.huggingface.co/bert/aubmindlab/bert-base-arabert/special_tokens_map.json from cache at /root/.cache/torch/transformers/4b95797216e163eea8d9cb1922733c29b4b3ba1036fc48b291cfe660b4240c51.275045728fbf41c11d3dae08b8742c054377e18d92cc7b72b6351152a99b64e4\n",
            "INFO:transformers.tokenization_utils_base:loading file https://s3.amazonaws.com/models.huggingface.co/bert/aubmindlab/bert-base-arabert/tokenizer_config.json from cache at /root/.cache/torch/transformers/7f3845bf9305a0617f5c8bed56fae2122d82c8f1e2fb5daea826606bcff59b32.1ddbe932d1da5efd2703149c0507e2f0c6ef863b1470aecbc2275f5edf984bea\n",
            "INFO:transformers.tokenization_utils_base:loading file https://s3.amazonaws.com/models.huggingface.co/bert/aubmindlab/bert-base-arabert/tokenizer.json from cache at None\n"
          ],
          "name": "stderr"
        }
      ]
    },
    {
      "cell_type": "code",
      "metadata": {
        "colab": {
          "base_uri": "https://localhost:8080/",
          "height": 204
        },
        "id": "X3-SBon8k4Kj",
        "outputId": "725f74b6-9b09-47d2-a5b6-17dd212f635a"
      },
      "source": [
        "val_data['text tok'] = val_data['text'].apply(lambda x: tokenizer.tokenize(x) )\n",
        "val_data.head()"
      ],
      "execution_count": null,
      "outputs": [
        {
          "output_type": "execute_result",
          "data": {
            "text/html": [
              "<div>\n",
              "<style scoped>\n",
              "    .dataframe tbody tr th:only-of-type {\n",
              "        vertical-align: middle;\n",
              "    }\n",
              "\n",
              "    .dataframe tbody tr th {\n",
              "        vertical-align: top;\n",
              "    }\n",
              "\n",
              "    .dataframe thead th {\n",
              "        text-align: right;\n",
              "    }\n",
              "</style>\n",
              "<table border=\"1\" class=\"dataframe\">\n",
              "  <thead>\n",
              "    <tr style=\"text-align: right;\">\n",
              "      <th></th>\n",
              "      <th>text</th>\n",
              "      <th>label</th>\n",
              "      <th>text tok</th>\n",
              "    </tr>\n",
              "  </thead>\n",
              "  <tbody>\n",
              "    <tr>\n",
              "      <th>0</th>\n",
              "      <td>\" أخر صيح+ة من حقائب ال+يد من ف+ندي و+غوتشي :/...</td>\n",
              "      <td>neutral</td>\n",
              "      <td>[\", أخر, صيح, +, ة, من, حقائب, ال, +, يد, من, ...</td>\n",
              "    </tr>\n",
              "    <tr>\n",
              "      <th>1</th>\n",
              "      <td>\" تتشرف باريغاليري ب+دعو+ت+كم ل+حضور و+مقابل+ة...</td>\n",
              "      <td>positive</td>\n",
              "      <td>[\", تتش, ##رف, باري, ##غالي, ##ري, ب, +, دعو, ...</td>\n",
              "    </tr>\n",
              "    <tr>\n",
              "      <th>2</th>\n",
              "      <td>\" : ستايلبنطال نامج+ون ال+جينز ل+صور كان ب+سعر...</td>\n",
              "      <td>neutral</td>\n",
              "      <td>[\", :, ستايل, ##بن, ##طال, نام, ##ج, +, و, ##ن...</td>\n",
              "    </tr>\n",
              "    <tr>\n",
              "      <th>3</th>\n",
              "      <td>\" : كريس في ازياء كريس جميع+ها من بربري من ال+...</td>\n",
              "      <td>neutral</td>\n",
              "      <td>[\", :, كريس, في, ازيا, ##ء, كريس, جميع, +, ه, ...</td>\n",
              "    </tr>\n",
              "    <tr>\n",
              "      <th>4</th>\n",
              "      <td>\" تعرف+ي على حذاء غوتشي الذي يجمع بين ال+كعب ا...</td>\n",
              "      <td>neutral</td>\n",
              "      <td>[\", تعرف, +, ي, على, حذاء, غوتشي, الذي, يجمع, ...</td>\n",
              "    </tr>\n",
              "  </tbody>\n",
              "</table>\n",
              "</div>"
            ],
            "text/plain": [
              "                                                text  ...                                           text tok\n",
              "0  \" أخر صيح+ة من حقائب ال+يد من ف+ندي و+غوتشي :/...  ...  [\", أخر, صيح, +, ة, من, حقائب, ال, +, يد, من, ...\n",
              "1  \" تتشرف باريغاليري ب+دعو+ت+كم ل+حضور و+مقابل+ة...  ...  [\", تتش, ##رف, باري, ##غالي, ##ري, ب, +, دعو, ...\n",
              "2  \" : ستايلبنطال نامج+ون ال+جينز ل+صور كان ب+سعر...  ...  [\", :, ستايل, ##بن, ##طال, نام, ##ج, +, و, ##ن...\n",
              "3  \" : كريس في ازياء كريس جميع+ها من بربري من ال+...  ...  [\", :, كريس, في, ازيا, ##ء, كريس, جميع, +, ه, ...\n",
              "4  \" تعرف+ي على حذاء غوتشي الذي يجمع بين ال+كعب ا...  ...  [\", تعرف, +, ي, على, حذاء, غوتشي, الذي, يجمع, ...\n",
              "\n",
              "[5 rows x 3 columns]"
            ]
          },
          "metadata": {
            "tags": []
          },
          "execution_count": 59
        }
      ]
    },
    {
      "cell_type": "markdown",
      "metadata": {
        "id": "38M0Esnulm7F"
      },
      "source": [
        "## read the lexicon data"
      ]
    },
    {
      "cell_type": "code",
      "metadata": {
        "id": "X7xWlkNzlqMD"
      },
      "source": [
        "f = open('/content/SauDiSenti lexicon.txt','r')\n",
        "\n",
        "lines = f.readlines()\n",
        "\n",
        "dic= {} # key type(neg,pos) -> value list of words\n",
        "dic['pos'] = []\n",
        "dic['neg'] = []\n",
        "\n",
        "for ln in lines:\n",
        "\n",
        "  tp = int(ln.split('\\t')[1])\n",
        "  if tp ==1:\n",
        "    dic['pos'].append(ln.split('\\t')[0].replace('\\n',''))\n",
        "  else:\n",
        "    dic['neg'].append(ln.split('\\t')[0].replace('\\n',''))\n",
        " \n",
        "  \n",
        "  \n",
        "  "
      ],
      "execution_count": null,
      "outputs": []
    },
    {
      "cell_type": "code",
      "metadata": {
        "colab": {
          "base_uri": "https://localhost:8080/"
        },
        "id": "dKysdWZWq_NB",
        "outputId": "3bf386a8-f787-4156-b2d0-adec16122e2d"
      },
      "source": [
        "len(dic['pos']) , len(dic['neg'])"
      ],
      "execution_count": null,
      "outputs": [
        {
          "output_type": "execute_result",
          "data": {
            "text/plain": [
              "(1048, 3220)"
            ]
          },
          "metadata": {
            "tags": []
          },
          "execution_count": 29
        }
      ]
    },
    {
      "cell_type": "code",
      "metadata": {
        "id": "-5H09g2itpPN"
      },
      "source": [
        "pred = []\n",
        "\n",
        "for index,row in val_data.iterrows():\n",
        "  text = list(row['text tok'])\n",
        "  \n",
        "\n",
        "  inters_pos = set(text).intersection(set(dic['pos']))\n",
        "  inters_neg = set(text).intersection(set(dic['neg']))\n",
        "  \n",
        "\n",
        "  if len(inters_neg)==0 and len(inters_pos)==0:\n",
        "    pred.append('neutral')\n",
        "  else:\n",
        "    decide = (len(inters_pos)-len(inters_neg))/(len(inters_pos)+len(inters_neg))\n",
        "    \n",
        "\n",
        "    if decide == 0:\n",
        "      pred.append('neutral')\n",
        "    elif decide>0:\n",
        "      pred.append('positive') \n",
        "    else:\n",
        "      pred.append('negative')"
      ],
      "execution_count": null,
      "outputs": []
    },
    {
      "cell_type": "code",
      "metadata": {
        "id": "tQaMuAHV0TpP"
      },
      "source": [
        "val_data['pred lexicon'] = pred"
      ],
      "execution_count": null,
      "outputs": []
    },
    {
      "cell_type": "code",
      "metadata": {
        "id": "RnOoAs-F1kqf",
        "colab": {
          "base_uri": "https://localhost:8080/",
          "height": 306
        },
        "outputId": "f44f19fa-fb5e-4249-e06a-693589824fec"
      },
      "source": [
        "val_data['pred_lexicon_int'] = val_data['pred lexicon'].apply(lambda x: label_map[x])\n",
        "val_data['label_int'] = val_data['label'].apply(lambda x: label_map[x])\n",
        "\n",
        "val_data.head()"
      ],
      "execution_count": null,
      "outputs": [
        {
          "output_type": "execute_result",
          "data": {
            "text/html": [
              "<div>\n",
              "<style scoped>\n",
              "    .dataframe tbody tr th:only-of-type {\n",
              "        vertical-align: middle;\n",
              "    }\n",
              "\n",
              "    .dataframe tbody tr th {\n",
              "        vertical-align: top;\n",
              "    }\n",
              "\n",
              "    .dataframe thead th {\n",
              "        text-align: right;\n",
              "    }\n",
              "</style>\n",
              "<table border=\"1\" class=\"dataframe\">\n",
              "  <thead>\n",
              "    <tr style=\"text-align: right;\">\n",
              "      <th></th>\n",
              "      <th>text</th>\n",
              "      <th>label</th>\n",
              "      <th>text tok</th>\n",
              "      <th>pred arab</th>\n",
              "      <th>pred lexicon</th>\n",
              "      <th>pred_lexicon_int</th>\n",
              "      <th>label_int</th>\n",
              "    </tr>\n",
              "  </thead>\n",
              "  <tbody>\n",
              "    <tr>\n",
              "      <th>0</th>\n",
              "      <td>\" أخر صيح+ة من حقائب ال+يد من ف+ندي و+غوتشي :/...</td>\n",
              "      <td>neutral</td>\n",
              "      <td>[\", أخر, صيح, +, ة, من, حقائب, ال, +, يد, من, ...</td>\n",
              "      <td>0</td>\n",
              "      <td>neutral</td>\n",
              "      <td>0</td>\n",
              "      <td>0</td>\n",
              "    </tr>\n",
              "    <tr>\n",
              "      <th>1</th>\n",
              "      <td>\" تتشرف باريغاليري ب+دعو+ت+كم ل+حضور و+مقابل+ة...</td>\n",
              "      <td>positive</td>\n",
              "      <td>[\", تتش, ##رف, باري, ##غالي, ##ري, ب, +, دعو, ...</td>\n",
              "      <td>1</td>\n",
              "      <td>neutral</td>\n",
              "      <td>0</td>\n",
              "      <td>1</td>\n",
              "    </tr>\n",
              "    <tr>\n",
              "      <th>2</th>\n",
              "      <td>\" : ستايلبنطال نامج+ون ال+جينز ل+صور كان ب+سعر...</td>\n",
              "      <td>neutral</td>\n",
              "      <td>[\", :, ستايل, ##بن, ##طال, نام, ##ج, +, و, ##ن...</td>\n",
              "      <td>0</td>\n",
              "      <td>neutral</td>\n",
              "      <td>0</td>\n",
              "      <td>0</td>\n",
              "    </tr>\n",
              "    <tr>\n",
              "      <th>3</th>\n",
              "      <td>\" : كريس في ازياء كريس جميع+ها من بربري من ال+...</td>\n",
              "      <td>neutral</td>\n",
              "      <td>[\", :, كريس, في, ازيا, ##ء, كريس, جميع, +, ه, ...</td>\n",
              "      <td>0</td>\n",
              "      <td>neutral</td>\n",
              "      <td>0</td>\n",
              "      <td>0</td>\n",
              "    </tr>\n",
              "    <tr>\n",
              "      <th>4</th>\n",
              "      <td>\" تعرف+ي على حذاء غوتشي الذي يجمع بين ال+كعب ا...</td>\n",
              "      <td>neutral</td>\n",
              "      <td>[\", تعرف, +, ي, على, حذاء, غوتشي, الذي, يجمع, ...</td>\n",
              "      <td>0</td>\n",
              "      <td>neutral</td>\n",
              "      <td>0</td>\n",
              "      <td>0</td>\n",
              "    </tr>\n",
              "  </tbody>\n",
              "</table>\n",
              "</div>"
            ],
            "text/plain": [
              "                                                text  ... label_int\n",
              "0  \" أخر صيح+ة من حقائب ال+يد من ف+ندي و+غوتشي :/...  ...         0\n",
              "1  \" تتشرف باريغاليري ب+دعو+ت+كم ل+حضور و+مقابل+ة...  ...         1\n",
              "2  \" : ستايلبنطال نامج+ون ال+جينز ل+صور كان ب+سعر...  ...         0\n",
              "3  \" : كريس في ازياء كريس جميع+ها من بربري من ال+...  ...         0\n",
              "4  \" تعرف+ي على حذاء غوتشي الذي يجمع بين ال+كعب ا...  ...         0\n",
              "\n",
              "[5 rows x 7 columns]"
            ]
          },
          "metadata": {
            "tags": []
          },
          "execution_count": 78
        }
      ]
    },
    {
      "cell_type": "code",
      "metadata": {
        "colab": {
          "base_uri": "https://localhost:8080/"
        },
        "id": "kcJrLS2w1-aQ",
        "outputId": "cc469efc-b381-473b-f8a5-52711e155abd"
      },
      "source": [
        "from sklearn.metrics import accuracy_score as acc\n",
        "print('acc with lexicon',acc(val_data['label_int'],val_data['pred_lexicon_int']))\n",
        "print('acc with arabert',acc(val_data['label_int'],val_data['pred arab']))\n"
      ],
      "execution_count": null,
      "outputs": [
        {
          "output_type": "stream",
          "text": [
            "acc with lexicon 0.5208955223880597\n",
            "acc with arabert 0.9567164179104478\n"
          ],
          "name": "stdout"
        }
      ]
    },
    {
      "cell_type": "markdown",
      "metadata": {
        "id": "MZkdaqgH_6F2"
      },
      "source": [
        "## acc for positive , negative , neutral"
      ]
    },
    {
      "cell_type": "markdown",
      "metadata": {
        "id": "3ArBHXjSAC7x"
      },
      "source": [
        "## positive"
      ]
    },
    {
      "cell_type": "code",
      "metadata": {
        "colab": {
          "base_uri": "https://localhost:8080/"
        },
        "id": "g2SHPNxA_3sn",
        "outputId": "6695e0eb-14bb-4232-8b5c-3baaa9bfd053"
      },
      "source": [
        "from sklearn.metrics import f1_score as f1\n",
        "from sklearn.metrics import recall_score\n",
        "\n",
        "from sklearn.metrics import accuracy_score as acc\n",
        "pos_data = val_data[val_data['label_int']==1]\n",
        "print('acc with lexicon',acc(pos_data['label_int'],pos_data['pred_lexicon_int']))\n",
        "print('acc with arabert',acc(pos_data['label_int'],pos_data['pred arab']))\n",
        "\n",
        "print('f1 score lexicon',f1(pos_data['label_int'],pos_data['pred_lexicon_int'],average='weighted'))\n",
        "print('f1 score arabert',f1(pos_data['label_int'],pos_data['pred arab'],average='weighted'))\n",
        "print('recall score lexicon',recall_score(pos_data['label_int'],pos_data['pred_lexicon_int'],average='weighted'))\n",
        "print('recall score arabert',recall_score(pos_data['label_int'],pos_data['pred arab'],average='weighted'))"
      ],
      "execution_count": null,
      "outputs": [
        {
          "output_type": "stream",
          "text": [
            "acc with lexicon 0.29411764705882354\n",
            "acc with arabert 0.9728506787330317\n",
            "f1 score lexicon 0.45454545454545453\n",
            "f1 score arabert 0.9862385321100917\n",
            "recall score lexicon 0.29411764705882354\n",
            "recall score arabert 0.9728506787330317\n"
          ],
          "name": "stdout"
        },
        {
          "output_type": "stream",
          "text": [
            "/usr/local/lib/python3.7/dist-packages/sklearn/metrics/_classification.py:1272: UndefinedMetricWarning: Recall is ill-defined and being set to 0.0 in labels with no true samples. Use `zero_division` parameter to control this behavior.\n",
            "  _warn_prf(average, modifier, msg_start, len(result))\n"
          ],
          "name": "stderr"
        }
      ]
    },
    {
      "cell_type": "markdown",
      "metadata": {
        "id": "Y8d3Wt7L_4Lj"
      },
      "source": [
        "## negative"
      ]
    },
    {
      "cell_type": "code",
      "metadata": {
        "colab": {
          "base_uri": "https://localhost:8080/"
        },
        "id": "8HFbpfpYA31l",
        "outputId": "f403e849-f5da-4ba6-e172-57eed64a358b"
      },
      "source": [
        "from sklearn.metrics import accuracy_score as acc\n",
        "neg = val_data[val_data['label_int']==-1]\n",
        "print('acc with lexicon',acc(neg['label_int'],neg['pred_lexicon_int']))\n",
        "print('acc with arabert',acc(neg['label_int'],neg['pred arab']))\n",
        "print('f1 score lexicon',f1(neg['label_int'],neg['pred_lexicon_int'],average='weighted'))\n",
        "print('f1 score arabert',f1(neg['label_int'],neg['pred arab'],average='weighted'))\n",
        "print('recall score lexicon',recall_score(neg['label_int'],neg['pred_lexicon_int'],average='weighted'))\n",
        "print('recall score arabert',recall_score(neg['label_int'],neg['pred arab'],average='weighted'))"
      ],
      "execution_count": null,
      "outputs": [
        {
          "output_type": "stream",
          "text": [
            "acc with lexicon 0.265625\n",
            "acc with arabert 0.9453125\n",
            "f1 score lexicon 0.41975308641975306\n",
            "f1 score arabert 0.9718875502008032\n",
            "recall score lexicon 0.265625\n",
            "recall score arabert 0.9453125\n"
          ],
          "name": "stdout"
        },
        {
          "output_type": "stream",
          "text": [
            "/usr/local/lib/python3.7/dist-packages/sklearn/metrics/_classification.py:1272: UndefinedMetricWarning: Recall is ill-defined and being set to 0.0 in labels with no true samples. Use `zero_division` parameter to control this behavior.\n",
            "  _warn_prf(average, modifier, msg_start, len(result))\n"
          ],
          "name": "stderr"
        }
      ]
    },
    {
      "cell_type": "markdown",
      "metadata": {
        "id": "YIlmDRwcA6jn"
      },
      "source": [
        "## neutral\n"
      ]
    },
    {
      "cell_type": "code",
      "metadata": {
        "colab": {
          "base_uri": "https://localhost:8080/"
        },
        "id": "cWidtg6hA6sd",
        "outputId": "83e183e7-d752-4eaa-910a-cbf49df7056c"
      },
      "source": [
        "from sklearn.metrics import accuracy_score as acc\n",
        "neut = val_data[val_data['label_int']==0]\n",
        "print('acc with lexicon',acc(neut['label_int'],neut['pred_lexicon_int']))\n",
        "print('acc with arabert',acc(neut['label_int'],neut['pred arab']))\n",
        "print('f1 score lexicon',f1(neut['label_int'],neut['pred_lexicon_int'],average='weighted'))\n",
        "print('f1 score arabert',f1(neut['label_int'],neut['pred arab'],average='weighted'))\n",
        "print('recall score lexicon',recall_score(neut['label_int'],neut['pred_lexicon_int'],average='weighted'))\n",
        "print('recall score arabert',recall_score(neut['label_int'],neut['pred arab'],average='weighted'))"
      ],
      "execution_count": null,
      "outputs": [
        {
          "output_type": "stream",
          "text": [
            "acc with lexicon 0.778816199376947\n",
            "acc with arabert 0.9501557632398754\n",
            "f1 score lexicon 0.8756567425569177\n",
            "f1 score arabert 0.97444089456869\n",
            "recall score lexicon 0.778816199376947\n",
            "recall score arabert 0.9501557632398754\n"
          ],
          "name": "stdout"
        },
        {
          "output_type": "stream",
          "text": [
            "/usr/local/lib/python3.7/dist-packages/sklearn/metrics/_classification.py:1272: UndefinedMetricWarning: Recall is ill-defined and being set to 0.0 in labels with no true samples. Use `zero_division` parameter to control this behavior.\n",
            "  _warn_prf(average, modifier, msg_start, len(result))\n"
          ],
          "name": "stderr"
        }
      ]
    },
    {
      "cell_type": "markdown",
      "metadata": {
        "id": "KPte6nABwFpR"
      },
      "source": [
        "## weighted method"
      ]
    },
    {
      "cell_type": "code",
      "metadata": {
        "colab": {
          "base_uri": "https://localhost:8080/",
          "height": 306
        },
        "id": "0DoOuxMAwKKL",
        "outputId": "572d12e7-5007-473e-db5f-509a69490dd6"
      },
      "source": [
        "alpha = 0.6\n",
        "beta = 0.4\n",
        "\n",
        "weighted_list = []\n",
        "\n",
        "for index , row in val_data.iterrows():\n",
        "  prd_arab = row['pred arab']\n",
        "  pred_lexicon = row['pred_lexicon_int']\n",
        "\n",
        "  weighted_pred = prd_arab*alpha + beta*pred_lexicon\n",
        "  weighted_list.append(weighted_pred)\n",
        "\n",
        "val_data['weighted'] = weighted_list\n",
        "val_data.head()"
      ],
      "execution_count": null,
      "outputs": [
        {
          "output_type": "execute_result",
          "data": {
            "text/html": [
              "<div>\n",
              "<style scoped>\n",
              "    .dataframe tbody tr th:only-of-type {\n",
              "        vertical-align: middle;\n",
              "    }\n",
              "\n",
              "    .dataframe tbody tr th {\n",
              "        vertical-align: top;\n",
              "    }\n",
              "\n",
              "    .dataframe thead th {\n",
              "        text-align: right;\n",
              "    }\n",
              "</style>\n",
              "<table border=\"1\" class=\"dataframe\">\n",
              "  <thead>\n",
              "    <tr style=\"text-align: right;\">\n",
              "      <th></th>\n",
              "      <th>text</th>\n",
              "      <th>label</th>\n",
              "      <th>text tok</th>\n",
              "      <th>pred arab</th>\n",
              "      <th>pred lexicon</th>\n",
              "      <th>pred_lexicon_int</th>\n",
              "      <th>label_int</th>\n",
              "      <th>weighted</th>\n",
              "    </tr>\n",
              "  </thead>\n",
              "  <tbody>\n",
              "    <tr>\n",
              "      <th>0</th>\n",
              "      <td>\" أخر صيح+ة من حقائب ال+يد من ف+ندي و+غوتشي :/...</td>\n",
              "      <td>neutral</td>\n",
              "      <td>[\", أخر, صيح, +, ة, من, حقائب, ال, +, يد, من, ...</td>\n",
              "      <td>0</td>\n",
              "      <td>neutral</td>\n",
              "      <td>0</td>\n",
              "      <td>0</td>\n",
              "      <td>0.0</td>\n",
              "    </tr>\n",
              "    <tr>\n",
              "      <th>1</th>\n",
              "      <td>\" تتشرف باريغاليري ب+دعو+ت+كم ل+حضور و+مقابل+ة...</td>\n",
              "      <td>positive</td>\n",
              "      <td>[\", تتش, ##رف, باري, ##غالي, ##ري, ب, +, دعو, ...</td>\n",
              "      <td>1</td>\n",
              "      <td>neutral</td>\n",
              "      <td>0</td>\n",
              "      <td>1</td>\n",
              "      <td>0.6</td>\n",
              "    </tr>\n",
              "    <tr>\n",
              "      <th>2</th>\n",
              "      <td>\" : ستايلبنطال نامج+ون ال+جينز ل+صور كان ب+سعر...</td>\n",
              "      <td>neutral</td>\n",
              "      <td>[\", :, ستايل, ##بن, ##طال, نام, ##ج, +, و, ##ن...</td>\n",
              "      <td>0</td>\n",
              "      <td>neutral</td>\n",
              "      <td>0</td>\n",
              "      <td>0</td>\n",
              "      <td>0.0</td>\n",
              "    </tr>\n",
              "    <tr>\n",
              "      <th>3</th>\n",
              "      <td>\" : كريس في ازياء كريس جميع+ها من بربري من ال+...</td>\n",
              "      <td>neutral</td>\n",
              "      <td>[\", :, كريس, في, ازيا, ##ء, كريس, جميع, +, ه, ...</td>\n",
              "      <td>0</td>\n",
              "      <td>neutral</td>\n",
              "      <td>0</td>\n",
              "      <td>0</td>\n",
              "      <td>0.0</td>\n",
              "    </tr>\n",
              "    <tr>\n",
              "      <th>4</th>\n",
              "      <td>\" تعرف+ي على حذاء غوتشي الذي يجمع بين ال+كعب ا...</td>\n",
              "      <td>neutral</td>\n",
              "      <td>[\", تعرف, +, ي, على, حذاء, غوتشي, الذي, يجمع, ...</td>\n",
              "      <td>0</td>\n",
              "      <td>neutral</td>\n",
              "      <td>0</td>\n",
              "      <td>0</td>\n",
              "      <td>0.0</td>\n",
              "    </tr>\n",
              "  </tbody>\n",
              "</table>\n",
              "</div>"
            ],
            "text/plain": [
              "                                                text  ... weighted\n",
              "0  \" أخر صيح+ة من حقائب ال+يد من ف+ندي و+غوتشي :/...  ...      0.0\n",
              "1  \" تتشرف باريغاليري ب+دعو+ت+كم ل+حضور و+مقابل+ة...  ...      0.6\n",
              "2  \" : ستايلبنطال نامج+ون ال+جينز ل+صور كان ب+سعر...  ...      0.0\n",
              "3  \" : كريس في ازياء كريس جميع+ها من بربري من ال+...  ...      0.0\n",
              "4  \" تعرف+ي على حذاء غوتشي الذي يجمع بين ال+كعب ا...  ...      0.0\n",
              "\n",
              "[5 rows x 8 columns]"
            ]
          },
          "metadata": {
            "tags": []
          },
          "execution_count": 82
        }
      ]
    },
    {
      "cell_type": "code",
      "metadata": {
        "colab": {
          "base_uri": "https://localhost:8080/"
        },
        "id": "STtmGR0AxOEz",
        "outputId": "58d4f9fe-1b71-4590-aa66-2300d7784e64"
      },
      "source": [
        "from sklearn.metrics import mean_absolute_error as mae\n",
        "\n",
        "mae(val_data['weighted'],val_data['label_int'])"
      ],
      "execution_count": null,
      "outputs": [
        {
          "output_type": "execute_result",
          "data": {
            "text/plain": [
              "0.23134328358208955"
            ]
          },
          "metadata": {
            "tags": []
          },
          "execution_count": 84
        }
      ]
    },
    {
      "cell_type": "markdown",
      "metadata": {
        "id": "Pi7SI3OCLEkE"
      },
      "source": [
        "##You can see the output using tensorboard"
      ]
    },
    {
      "cell_type": "code",
      "metadata": {
        "id": "G1BLaw3xDYL4"
      },
      "source": [
        "%load_ext tensorboard\n",
        "%tensorboard --logdir './output/tensorboard'"
      ],
      "execution_count": null,
      "outputs": []
    }
  ]
}